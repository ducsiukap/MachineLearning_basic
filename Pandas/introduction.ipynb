{
 "cells": [
  {
   "cell_type": "markdown",
   "id": "712d6561-f2d0-4fd9-9aa9-7f2c2d440a49",
   "metadata": {},
   "source": [
    "# Pandas\n",
    "Mặc dù NumPy là một thư viện vô cùng mạnh mẽ với N-dimension Array, nhưng chúng không đủ để đáp ứng nhu cầu của Khoa học dữ liệu hiện nay.  \n",
    "Trong thế giới thực, `data` thường được biểu diễn dưới dạng `table formats`. Các kiểu dữ liệu của `NumPy` không có khả năng tương tác quá tốt với kiểu dữ liệu này. Vì vậy, `Pandas` ra đời với mục đích cung cấp kiểu dữ liệu mới hỗ trợ tốt hơn đối với các loại dữ liệu dạng bảng.\n",
    "\n",
    "### Purpose\n",
    "- `Pandas` cung cấp `fast`, `flexible` và `expressive` cấu trúc dữ liệu được thiết kế để làm việc với `relational` hoặc `labeled` data dễ dàng và trực quan\n",
    "\n",
    "### Features\n",
    "- `Series`, `DataFrame`\n",
    "- Nhập xuất dữ liệu dễ dàng từ CSV, Excel, SQL, ...\n",
    "- Truy cập dữ liệu bằng `label`\n",
    "- `Data cleaning` - Xử lý missing value, thay thế, ...\n",
    "- Tích hợp với `NumPy`, `Matplotlib`\n",
    "\n",
    "### Install `Pandas`\n",
    "- Trong `cmd`: `pip install pandas`\n",
    "- hoặc trong `jupyter notebook`: `!pip install pandas`"
   ]
  },
  {
   "cell_type": "code",
   "execution_count": 1,
   "id": "d0e22ef1-4261-4f67-a228-2d4e48633761",
   "metadata": {},
   "outputs": [
    {
     "name": "stdout",
     "output_type": "stream",
     "text": [
      "2.3.1\n"
     ]
    }
   ],
   "source": [
    "# check pandas version\n",
    "import pandas as pd\n",
    "\n",
    "print(pd.__version__)"
   ]
  },
  {
   "cell_type": "markdown",
   "id": "3b21a932-69fa-4021-a2b8-2e855cc8cef7",
   "metadata": {},
   "source": [
    "# Sometime, you need to check the result is DataFrame or Series\n",
    "### using `isinstance(obj, ClassName)`\n",
    "``` python\n",
    "def checkSeriesOrDataframe(var):\n",
    "    if isinstance(var, pd.DataFrame):\n",
    "        return 0\n",
    "    if isinstance(var, pd.Series):\n",
    "        return 1\n",
    "``` "
   ]
  }
 ],
 "metadata": {
  "kernelspec": {
   "display_name": "Python 3 (ipykernel)",
   "language": "python",
   "name": "python3"
  },
  "language_info": {
   "codemirror_mode": {
    "name": "ipython",
    "version": 3
   },
   "file_extension": ".py",
   "mimetype": "text/x-python",
   "name": "python",
   "nbconvert_exporter": "python",
   "pygments_lexer": "ipython3",
   "version": "3.11.4"
  }
 },
 "nbformat": 4,
 "nbformat_minor": 5
}
