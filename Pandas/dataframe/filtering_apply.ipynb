{
 "cells": [
  {
   "cell_type": "code",
   "execution_count": 1,
   "id": "1487cfa6-ba67-4f7b-ba67-99caad490cc0",
   "metadata": {},
   "outputs": [
    {
     "data": {
      "text/html": [
       "<div>\n",
       "<style scoped>\n",
       "    .dataframe tbody tr th:only-of-type {\n",
       "        vertical-align: middle;\n",
       "    }\n",
       "\n",
       "    .dataframe tbody tr th {\n",
       "        vertical-align: top;\n",
       "    }\n",
       "\n",
       "    .dataframe thead th {\n",
       "        text-align: right;\n",
       "    }\n",
       "</style>\n",
       "<table border=\"1\" class=\"dataframe\">\n",
       "  <thead>\n",
       "    <tr style=\"text-align: right;\">\n",
       "      <th></th>\n",
       "      <th>A</th>\n",
       "      <th>B</th>\n",
       "      <th>C</th>\n",
       "      <th>D</th>\n",
       "    </tr>\n",
       "  </thead>\n",
       "  <tbody>\n",
       "    <tr>\n",
       "      <th>0</th>\n",
       "      <td>0.187497</td>\n",
       "      <td>1.122150</td>\n",
       "      <td>-0.988277</td>\n",
       "      <td>-1.985934</td>\n",
       "    </tr>\n",
       "    <tr>\n",
       "      <th>1</th>\n",
       "      <td>0.360803</td>\n",
       "      <td>-0.562243</td>\n",
       "      <td>-0.340693</td>\n",
       "      <td>-0.986988</td>\n",
       "    </tr>\n",
       "    <tr>\n",
       "      <th>2</th>\n",
       "      <td>-0.040627</td>\n",
       "      <td>0.067333</td>\n",
       "      <td>-0.452978</td>\n",
       "      <td>0.686223</td>\n",
       "    </tr>\n",
       "    <tr>\n",
       "      <th>3</th>\n",
       "      <td>-0.279572</td>\n",
       "      <td>-0.702492</td>\n",
       "      <td>0.252265</td>\n",
       "      <td>0.958977</td>\n",
       "    </tr>\n",
       "    <tr>\n",
       "      <th>4</th>\n",
       "      <td>0.537438</td>\n",
       "      <td>-1.737568</td>\n",
       "      <td>0.714727</td>\n",
       "      <td>-0.939288</td>\n",
       "    </tr>\n",
       "    <tr>\n",
       "      <th>5</th>\n",
       "      <td>0.070011</td>\n",
       "      <td>-0.516443</td>\n",
       "      <td>-1.655689</td>\n",
       "      <td>0.246721</td>\n",
       "    </tr>\n",
       "    <tr>\n",
       "      <th>6</th>\n",
       "      <td>0.001268</td>\n",
       "      <td>0.951517</td>\n",
       "      <td>2.107360</td>\n",
       "      <td>-0.108726</td>\n",
       "    </tr>\n",
       "    <tr>\n",
       "      <th>7</th>\n",
       "      <td>-0.185258</td>\n",
       "      <td>0.856520</td>\n",
       "      <td>-0.686285</td>\n",
       "      <td>1.104195</td>\n",
       "    </tr>\n",
       "    <tr>\n",
       "      <th>8</th>\n",
       "      <td>0.387023</td>\n",
       "      <td>1.706336</td>\n",
       "      <td>-2.452653</td>\n",
       "      <td>0.260466</td>\n",
       "    </tr>\n",
       "    <tr>\n",
       "      <th>9</th>\n",
       "      <td>-1.054974</td>\n",
       "      <td>0.556775</td>\n",
       "      <td>-0.945219</td>\n",
       "      <td>-0.030295</td>\n",
       "    </tr>\n",
       "  </tbody>\n",
       "</table>\n",
       "</div>"
      ],
      "text/plain": [
       "          A         B         C         D\n",
       "0  0.187497  1.122150 -0.988277 -1.985934\n",
       "1  0.360803 -0.562243 -0.340693 -0.986988\n",
       "2 -0.040627  0.067333 -0.452978  0.686223\n",
       "3 -0.279572 -0.702492  0.252265  0.958977\n",
       "4  0.537438 -1.737568  0.714727 -0.939288\n",
       "5  0.070011 -0.516443 -1.655689  0.246721\n",
       "6  0.001268  0.951517  2.107360 -0.108726\n",
       "7 -0.185258  0.856520 -0.686285  1.104195\n",
       "8  0.387023  1.706336 -2.452653  0.260466\n",
       "9 -1.054974  0.556775 -0.945219 -0.030295"
      ]
     },
     "execution_count": 1,
     "metadata": {},
     "output_type": "execute_result"
    }
   ],
   "source": [
    "import pandas as pd\n",
    "import numpy as np\n",
    "\n",
    "df = pd.read_csv('data.csv')\n",
    "df"
   ]
  },
  {
   "cell_type": "markdown",
   "id": "036496ce-7439-4d46-ac93-bd055a37fd1b",
   "metadata": {},
   "source": [
    "# Filtering the data"
   ]
  },
  {
   "cell_type": "code",
   "execution_count": 2,
   "id": "ca33e0dd-3a83-44e0-af48-1299c89260be",
   "metadata": {},
   "outputs": [
    {
     "data": {
      "text/html": [
       "<div>\n",
       "<style scoped>\n",
       "    .dataframe tbody tr th:only-of-type {\n",
       "        vertical-align: middle;\n",
       "    }\n",
       "\n",
       "    .dataframe tbody tr th {\n",
       "        vertical-align: top;\n",
       "    }\n",
       "\n",
       "    .dataframe thead th {\n",
       "        text-align: right;\n",
       "    }\n",
       "</style>\n",
       "<table border=\"1\" class=\"dataframe\">\n",
       "  <thead>\n",
       "    <tr style=\"text-align: right;\">\n",
       "      <th></th>\n",
       "      <th>A</th>\n",
       "      <th>B</th>\n",
       "      <th>C</th>\n",
       "      <th>D</th>\n",
       "    </tr>\n",
       "  </thead>\n",
       "  <tbody>\n",
       "    <tr>\n",
       "      <th>1</th>\n",
       "      <td>0.360803</td>\n",
       "      <td>-0.562243</td>\n",
       "      <td>-0.340693</td>\n",
       "      <td>-0.986988</td>\n",
       "    </tr>\n",
       "    <tr>\n",
       "      <th>4</th>\n",
       "      <td>0.537438</td>\n",
       "      <td>-1.737568</td>\n",
       "      <td>0.714727</td>\n",
       "      <td>-0.939288</td>\n",
       "    </tr>\n",
       "    <tr>\n",
       "      <th>8</th>\n",
       "      <td>0.387023</td>\n",
       "      <td>1.706336</td>\n",
       "      <td>-2.452653</td>\n",
       "      <td>0.260466</td>\n",
       "    </tr>\n",
       "  </tbody>\n",
       "</table>\n",
       "</div>"
      ],
      "text/plain": [
       "          A         B         C         D\n",
       "1  0.360803 -0.562243 -0.340693 -0.986988\n",
       "4  0.537438 -1.737568  0.714727 -0.939288\n",
       "8  0.387023  1.706336 -2.452653  0.260466"
      ]
     },
     "execution_count": 2,
     "metadata": {},
     "output_type": "execute_result"
    }
   ],
   "source": [
    "df[df.A > 0.2] # or df[df['A'] > 0.2]"
   ]
  },
  {
   "cell_type": "code",
   "execution_count": 3,
   "id": "6053e7f4-5de4-4c16-a424-b2da5f3e41d8",
   "metadata": {},
   "outputs": [
    {
     "data": {
      "text/html": [
       "<div>\n",
       "<style scoped>\n",
       "    .dataframe tbody tr th:only-of-type {\n",
       "        vertical-align: middle;\n",
       "    }\n",
       "\n",
       "    .dataframe tbody tr th {\n",
       "        vertical-align: top;\n",
       "    }\n",
       "\n",
       "    .dataframe thead th {\n",
       "        text-align: right;\n",
       "    }\n",
       "</style>\n",
       "<table border=\"1\" class=\"dataframe\">\n",
       "  <thead>\n",
       "    <tr style=\"text-align: right;\">\n",
       "      <th></th>\n",
       "      <th>A</th>\n",
       "      <th>D</th>\n",
       "    </tr>\n",
       "  </thead>\n",
       "  <tbody>\n",
       "    <tr>\n",
       "      <th>1</th>\n",
       "      <td>0.360803</td>\n",
       "      <td>-0.986988</td>\n",
       "    </tr>\n",
       "    <tr>\n",
       "      <th>4</th>\n",
       "      <td>0.537438</td>\n",
       "      <td>-0.939288</td>\n",
       "    </tr>\n",
       "    <tr>\n",
       "      <th>8</th>\n",
       "      <td>0.387023</td>\n",
       "      <td>0.260466</td>\n",
       "    </tr>\n",
       "  </tbody>\n",
       "</table>\n",
       "</div>"
      ],
      "text/plain": [
       "          A         D\n",
       "1  0.360803 -0.986988\n",
       "4  0.537438 -0.939288\n",
       "8  0.387023  0.260466"
      ]
     },
     "execution_count": 3,
     "metadata": {},
     "output_type": "execute_result"
    }
   ],
   "source": [
    "df.loc[df.A > 0.2, ['A', 'D']] # specify the selected columns"
   ]
  },
  {
   "cell_type": "code",
   "execution_count": 4,
   "id": "1d8f2005-b7b9-4c6b-b9fb-a61ab8e2a629",
   "metadata": {},
   "outputs": [
    {
     "data": {
      "text/html": [
       "<div>\n",
       "<style scoped>\n",
       "    .dataframe tbody tr th:only-of-type {\n",
       "        vertical-align: middle;\n",
       "    }\n",
       "\n",
       "    .dataframe tbody tr th {\n",
       "        vertical-align: top;\n",
       "    }\n",
       "\n",
       "    .dataframe thead th {\n",
       "        text-align: right;\n",
       "    }\n",
       "</style>\n",
       "<table border=\"1\" class=\"dataframe\">\n",
       "  <thead>\n",
       "    <tr style=\"text-align: right;\">\n",
       "      <th></th>\n",
       "      <th>A</th>\n",
       "      <th>B</th>\n",
       "      <th>C</th>\n",
       "      <th>D</th>\n",
       "    </tr>\n",
       "  </thead>\n",
       "  <tbody>\n",
       "    <tr>\n",
       "      <th>0</th>\n",
       "      <td>0.187497</td>\n",
       "      <td>1.122150</td>\n",
       "      <td>-0.988277</td>\n",
       "      <td>-1.985934</td>\n",
       "    </tr>\n",
       "    <tr>\n",
       "      <th>1</th>\n",
       "      <td>0.360803</td>\n",
       "      <td>-0.562243</td>\n",
       "      <td>-0.340693</td>\n",
       "      <td>-0.986988</td>\n",
       "    </tr>\n",
       "    <tr>\n",
       "      <th>5</th>\n",
       "      <td>0.070011</td>\n",
       "      <td>-0.516443</td>\n",
       "      <td>-1.655689</td>\n",
       "      <td>0.246721</td>\n",
       "    </tr>\n",
       "    <tr>\n",
       "      <th>6</th>\n",
       "      <td>0.001268</td>\n",
       "      <td>0.951517</td>\n",
       "      <td>2.107360</td>\n",
       "      <td>-0.108726</td>\n",
       "    </tr>\n",
       "    <tr>\n",
       "      <th>8</th>\n",
       "      <td>0.387023</td>\n",
       "      <td>1.706336</td>\n",
       "      <td>-2.452653</td>\n",
       "      <td>0.260466</td>\n",
       "    </tr>\n",
       "  </tbody>\n",
       "</table>\n",
       "</div>"
      ],
      "text/plain": [
       "          A         B         C         D\n",
       "0  0.187497  1.122150 -0.988277 -1.985934\n",
       "1  0.360803 -0.562243 -0.340693 -0.986988\n",
       "5  0.070011 -0.516443 -1.655689  0.246721\n",
       "6  0.001268  0.951517  2.107360 -0.108726\n",
       "8  0.387023  1.706336 -2.452653  0.260466"
      ]
     },
     "execution_count": 4,
     "metadata": {},
     "output_type": "execute_result"
    }
   ],
   "source": [
    "# multiple condition\n",
    "df[(df.A > 0) & (df.A < 0.5)]\n",
    "# & and\n",
    " \n",
    "# df[(df.A>0.5) | (df.A < 0)]\n",
    "# | or\n",
    "\n",
    "# df[~(df.A > 0)]\n",
    "# ~ not"
   ]
  },
  {
   "cell_type": "markdown",
   "id": "657cf3cd-902c-4583-8df7-00d1da64135b",
   "metadata": {},
   "source": [
    "### Filtering: String & Regex\n",
    "\n",
    "`df[columns].str.contains(str_or_regex, case=True)`  \n",
    "`df[columns].str.startswith()`  \n",
    "`df[columns].isin(options)`"
   ]
  },
  {
   "cell_type": "markdown",
   "id": "12ee5805-d40c-4b10-92b8-24dd9ea7179f",
   "metadata": {},
   "source": [
    "### Query Function\n",
    "`.query`"
   ]
  },
  {
   "cell_type": "code",
   "execution_count": 5,
   "id": "8da51c4e-29a3-4a13-b51c-4c49b1806300",
   "metadata": {},
   "outputs": [
    {
     "data": {
      "text/html": [
       "<div>\n",
       "<style scoped>\n",
       "    .dataframe tbody tr th:only-of-type {\n",
       "        vertical-align: middle;\n",
       "    }\n",
       "\n",
       "    .dataframe tbody tr th {\n",
       "        vertical-align: top;\n",
       "    }\n",
       "\n",
       "    .dataframe thead th {\n",
       "        text-align: right;\n",
       "    }\n",
       "</style>\n",
       "<table border=\"1\" class=\"dataframe\">\n",
       "  <thead>\n",
       "    <tr style=\"text-align: right;\">\n",
       "      <th></th>\n",
       "      <th>A</th>\n",
       "      <th>B</th>\n",
       "      <th>C</th>\n",
       "      <th>D</th>\n",
       "    </tr>\n",
       "  </thead>\n",
       "  <tbody>\n",
       "    <tr>\n",
       "      <th>4</th>\n",
       "      <td>0.537438</td>\n",
       "      <td>-1.737568</td>\n",
       "      <td>0.714727</td>\n",
       "      <td>-0.939288</td>\n",
       "    </tr>\n",
       "  </tbody>\n",
       "</table>\n",
       "</div>"
      ],
      "text/plain": [
       "          A         B         C         D\n",
       "4  0.537438 -1.737568  0.714727 -0.939288"
      ]
     },
     "execution_count": 5,
     "metadata": {},
     "output_type": "execute_result"
    }
   ],
   "source": [
    "df.query('A>0.5')"
   ]
  },
  {
   "cell_type": "code",
   "execution_count": 6,
   "id": "6d3615f2-c11b-44b1-9e79-f23f8729d97e",
   "metadata": {},
   "outputs": [
    {
     "data": {
      "text/html": [
       "<div>\n",
       "<style scoped>\n",
       "    .dataframe tbody tr th:only-of-type {\n",
       "        vertical-align: middle;\n",
       "    }\n",
       "\n",
       "    .dataframe tbody tr th {\n",
       "        vertical-align: top;\n",
       "    }\n",
       "\n",
       "    .dataframe thead th {\n",
       "        text-align: right;\n",
       "    }\n",
       "</style>\n",
       "<table border=\"1\" class=\"dataframe\">\n",
       "  <thead>\n",
       "    <tr style=\"text-align: right;\">\n",
       "      <th></th>\n",
       "      <th>A</th>\n",
       "      <th>B</th>\n",
       "      <th>C</th>\n",
       "      <th>D</th>\n",
       "    </tr>\n",
       "  </thead>\n",
       "  <tbody>\n",
       "    <tr>\n",
       "      <th>1</th>\n",
       "      <td>0.360803</td>\n",
       "      <td>-0.562243</td>\n",
       "      <td>-0.340693</td>\n",
       "      <td>-0.986988</td>\n",
       "    </tr>\n",
       "    <tr>\n",
       "      <th>4</th>\n",
       "      <td>0.537438</td>\n",
       "      <td>-1.737568</td>\n",
       "      <td>0.714727</td>\n",
       "      <td>-0.939288</td>\n",
       "    </tr>\n",
       "    <tr>\n",
       "      <th>5</th>\n",
       "      <td>0.070011</td>\n",
       "      <td>-0.516443</td>\n",
       "      <td>-1.655689</td>\n",
       "      <td>0.246721</td>\n",
       "    </tr>\n",
       "  </tbody>\n",
       "</table>\n",
       "</div>"
      ],
      "text/plain": [
       "          A         B         C         D\n",
       "1  0.360803 -0.562243 -0.340693 -0.986988\n",
       "4  0.537438 -1.737568  0.714727 -0.939288\n",
       "5  0.070011 -0.516443 -1.655689  0.246721"
      ]
     },
     "execution_count": 6,
     "metadata": {},
     "output_type": "execute_result"
    }
   ],
   "source": [
    "df.query('A>0 and B<0')"
   ]
  },
  {
   "cell_type": "markdown",
   "id": "4ee78d6e-2062-44b5-a415-06610b58c893",
   "metadata": {},
   "source": [
    "# `.apply()` \n",
    "input is a `Series`  \n",
    "- `axis=0` (default) -> apply to the column  \n",
    "  -> với `DataFrame` -> apply lên từng cột( mỗi cọt là 1 series, đưa vào từng cột)  \n",
    "  -> vơi `Series` -> apply lên từng phần tử\n",
    "- `axis=1` -> apply to the row (mỗi hàng là 1 series, đưa vào từng hàng)  \n",
    "  -> `axis=1` chỉ áp dụng được với `DataFrame`"
   ]
  },
  {
   "cell_type": "code",
   "execution_count": 7,
   "id": "2533c318-7c4f-48de-9648-a39a2758bcff",
   "metadata": {},
   "outputs": [
    {
     "data": {
      "text/plain": [
       "A   -0.016391\n",
       "B    1.741885\n",
       "dtype: float64"
      ]
     },
     "execution_count": 7,
     "metadata": {},
     "output_type": "execute_result"
    }
   ],
   "source": [
    "df[['A', 'B']].apply(np.sum) # sum(A), sum(B), sum(C), sum(D) -> lần lượt tất cả column\n",
    "# apply trên dataframe, axis=0 -> mỗi cột được đưa vào lần lượt"
   ]
  },
  {
   "cell_type": "code",
   "execution_count": 8,
   "id": "48d562c0-5e7f-47b9-8b39-681e6133d8b4",
   "metadata": {},
   "outputs": [
    {
     "data": {
      "text/plain": [
       "0    0.187497\n",
       "1    0.360803\n",
       "2   -0.040627\n",
       "3   -0.279572\n",
       "4    0.537438\n",
       "5    0.070011\n",
       "6    0.001268\n",
       "7   -0.185258\n",
       "8    0.387023\n",
       "9   -1.054974\n",
       "Name: A, dtype: float64"
      ]
     },
     "execution_count": 8,
     "metadata": {},
     "output_type": "execute_result"
    }
   ],
   "source": [
    "df.A.apply(np.sum) # apply lên column A\n",
    "# df.A -> series\n",
    "# đưa từng phần tử của cột A vào rồi tính"
   ]
  },
  {
   "cell_type": "code",
   "execution_count": 9,
   "id": "9e568f61-10f0-443b-a379-9a86b4c14a68",
   "metadata": {},
   "outputs": [
    {
     "data": {
      "text/plain": [
       "0   -1.664564\n",
       "1   -1.529121\n",
       "2    0.259951\n",
       "3    0.229178\n",
       "4   -1.424691\n",
       "5   -1.855400\n",
       "6    2.951419\n",
       "7    1.089172\n",
       "8   -0.098828\n",
       "9   -1.473713\n",
       "dtype: float64"
      ]
     },
     "execution_count": 9,
     "metadata": {},
     "output_type": "execute_result"
    }
   ],
   "source": [
    "df.apply(np.sum, axis=1) # sum(index[0]), sum(index[1]), sum(index[2]), ...\n",
    "# đưa lần lượt từng hàng vào"
   ]
  },
  {
   "cell_type": "code",
   "execution_count": 10,
   "id": "fd8b60f0-b3ae-488b-945f-da18c2be7e3b",
   "metadata": {},
   "outputs": [
    {
     "data": {
      "text/html": [
       "<div>\n",
       "<style scoped>\n",
       "    .dataframe tbody tr th:only-of-type {\n",
       "        vertical-align: middle;\n",
       "    }\n",
       "\n",
       "    .dataframe tbody tr th {\n",
       "        vertical-align: top;\n",
       "    }\n",
       "\n",
       "    .dataframe thead th {\n",
       "        text-align: right;\n",
       "    }\n",
       "</style>\n",
       "<table border=\"1\" class=\"dataframe\">\n",
       "  <thead>\n",
       "    <tr style=\"text-align: right;\">\n",
       "      <th></th>\n",
       "      <th>A</th>\n",
       "      <th>B</th>\n",
       "      <th>C</th>\n",
       "      <th>D</th>\n",
       "    </tr>\n",
       "  </thead>\n",
       "  <tbody>\n",
       "    <tr>\n",
       "      <th>0</th>\n",
       "      <td>0.433009</td>\n",
       "      <td>1.059316</td>\n",
       "      <td>-0.988277</td>\n",
       "      <td>-1.985934</td>\n",
       "    </tr>\n",
       "    <tr>\n",
       "      <th>1</th>\n",
       "      <td>0.600669</td>\n",
       "      <td>-0.562243</td>\n",
       "      <td>-0.340693</td>\n",
       "      <td>-0.986988</td>\n",
       "    </tr>\n",
       "    <tr>\n",
       "      <th>2</th>\n",
       "      <td>-0.040627</td>\n",
       "      <td>0.259486</td>\n",
       "      <td>-0.452978</td>\n",
       "      <td>0.828386</td>\n",
       "    </tr>\n",
       "    <tr>\n",
       "      <th>3</th>\n",
       "      <td>-0.279572</td>\n",
       "      <td>-0.702492</td>\n",
       "      <td>0.502260</td>\n",
       "      <td>0.979274</td>\n",
       "    </tr>\n",
       "    <tr>\n",
       "      <th>4</th>\n",
       "      <td>0.733102</td>\n",
       "      <td>-1.737568</td>\n",
       "      <td>0.845415</td>\n",
       "      <td>-0.939288</td>\n",
       "    </tr>\n",
       "    <tr>\n",
       "      <th>5</th>\n",
       "      <td>0.264596</td>\n",
       "      <td>-0.516443</td>\n",
       "      <td>-1.655689</td>\n",
       "      <td>0.496710</td>\n",
       "    </tr>\n",
       "    <tr>\n",
       "      <th>6</th>\n",
       "      <td>0.035609</td>\n",
       "      <td>0.975457</td>\n",
       "      <td>1.451675</td>\n",
       "      <td>-0.108726</td>\n",
       "    </tr>\n",
       "    <tr>\n",
       "      <th>7</th>\n",
       "      <td>-0.185258</td>\n",
       "      <td>0.925484</td>\n",
       "      <td>-0.686285</td>\n",
       "      <td>1.050807</td>\n",
       "    </tr>\n",
       "    <tr>\n",
       "      <th>8</th>\n",
       "      <td>0.622112</td>\n",
       "      <td>1.306268</td>\n",
       "      <td>-2.452653</td>\n",
       "      <td>0.510359</td>\n",
       "    </tr>\n",
       "    <tr>\n",
       "      <th>9</th>\n",
       "      <td>-1.054974</td>\n",
       "      <td>0.746174</td>\n",
       "      <td>-0.945219</td>\n",
       "      <td>-0.030295</td>\n",
       "    </tr>\n",
       "  </tbody>\n",
       "</table>\n",
       "</div>"
      ],
      "text/plain": [
       "          A         B         C         D\n",
       "0  0.433009  1.059316 -0.988277 -1.985934\n",
       "1  0.600669 -0.562243 -0.340693 -0.986988\n",
       "2 -0.040627  0.259486 -0.452978  0.828386\n",
       "3 -0.279572 -0.702492  0.502260  0.979274\n",
       "4  0.733102 -1.737568  0.845415 -0.939288\n",
       "5  0.264596 -0.516443 -1.655689  0.496710\n",
       "6  0.035609  0.975457  1.451675 -0.108726\n",
       "7 -0.185258  0.925484 -0.686285  1.050807\n",
       "8  0.622112  1.306268 -2.452653  0.510359\n",
       "9 -1.054974  0.746174 -0.945219 -0.030295"
      ]
     },
     "execution_count": 10,
     "metadata": {},
     "output_type": "execute_result"
    }
   ],
   "source": [
    "\n",
    "sqrt = lambda x: x**(1/2) if x > 0 else x\n",
    "# sqrt chỉ có thể nhận từng phần tử \n",
    "\n",
    "# df.apply(sqrt) # Error-> x là từng cột -> không thể áp dụng\n",
    "# -> cần apply lần lượt ở từng cột (khi này từng phần tử sẽ được truyền vào thay vì cả cột được truyền vào)\n",
    "for col in df.columns:\n",
    "    df[col] = df[col].apply(sqrt)\n",
    "df"
   ]
  },
  {
   "cell_type": "code",
   "execution_count": 11,
   "id": "a894f399-90a0-41a3-b3a6-071716675a63",
   "metadata": {},
   "outputs": [
    {
     "data": {
      "text/plain": [
       "A    {'sum': 1.1286652940333695, 'mean': 0.11286652...\n",
       "B    {'sum': 1.753438372047186, 'mean': 0.175343837...\n",
       "C    {'sum': -4.722443929813905, 'mean': -0.4722443...\n",
       "D    {'sum': -0.18569580252408316, 'mean': -0.01856...\n",
       "dtype: object"
      ]
     },
     "execution_count": 11,
     "metadata": {},
     "output_type": "execute_result"
    }
   ],
   "source": [
    "# apply nhiều hàm cùng lúc ?\n",
    "df.apply(lambda x: {\n",
    "    \"sum\": np.sum(x),\n",
    "    \"mean\": np.mean(x)\n",
    "})"
   ]
  },
  {
   "cell_type": "code",
   "execution_count": 12,
   "id": "799941b4-e03f-4276-9ba4-505450840c74",
   "metadata": {},
   "outputs": [
    {
     "data": {
      "text/plain": [
       "0    {'sum': -1.4818859452923432, 'mean': -0.370471...\n",
       "1    {'sum': -1.2892552060710996, 'mean': -0.322313...\n",
       "2    {'sum': 0.5942668101469691, 'mean': 0.14856670...\n",
       "3    {'sum': 0.49946960334512436, 'mean': 0.1248674...\n",
       "4    {'sum': -1.0983390873694239, 'mean': -0.274584...\n",
       "5    {'sum': -1.4108259045990779, 'mean': -0.352706...\n",
       "6    {'sum': 2.354015211004485, 'mean': 0.588503802...\n",
       "7    {'sum': 1.1047474902051626, 'mean': 0.27618687...\n",
       "8    {'sum': -0.013914609927937138, 'mean': -0.0034...\n",
       "9    {'sum': -1.284314427699292, 'mean': -0.3210786...\n",
       "dtype: object"
      ]
     },
     "execution_count": 12,
     "metadata": {},
     "output_type": "execute_result"
    }
   ],
   "source": [
    "df.apply(lambda x: {\n",
    "    \"sum\": np.sum(x),\n",
    "    \"mean\": np.mean(x)\n",
    "}, axis=1)"
   ]
  }
 ],
 "metadata": {
  "kernelspec": {
   "display_name": "Python 3 (ipykernel)",
   "language": "python",
   "name": "python3"
  },
  "language_info": {
   "codemirror_mode": {
    "name": "ipython",
    "version": 3
   },
   "file_extension": ".py",
   "mimetype": "text/x-python",
   "name": "python",
   "nbconvert_exporter": "python",
   "pygments_lexer": "ipython3",
   "version": "3.11.4"
  }
 },
 "nbformat": 4,
 "nbformat_minor": 5
}
