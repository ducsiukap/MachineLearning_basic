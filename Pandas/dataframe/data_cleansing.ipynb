{
 "cells": [
  {
   "cell_type": "markdown",
   "id": "74147c01-f4b2-46a6-b43d-63db2c408697",
   "metadata": {},
   "source": [
    "# Data Cleaning\n",
    "-> remove `negative values` (`null`, `NaN`, `0`, .. ) by the `positive` (`mean`, `max`, `min`, ...)  \n",
    "**very important step in data analysis and machine learning**!\n"
   ]
  },
  {
   "cell_type": "code",
   "execution_count": 1,
   "id": "5ca68882-729e-4623-8537-34dd14241083",
   "metadata": {},
   "outputs": [
    {
     "data": {
      "text/html": [
       "<div>\n",
       "<style scoped>\n",
       "    .dataframe tbody tr th:only-of-type {\n",
       "        vertical-align: middle;\n",
       "    }\n",
       "\n",
       "    .dataframe tbody tr th {\n",
       "        vertical-align: top;\n",
       "    }\n",
       "\n",
       "    .dataframe thead th {\n",
       "        text-align: right;\n",
       "    }\n",
       "</style>\n",
       "<table border=\"1\" class=\"dataframe\">\n",
       "  <thead>\n",
       "    <tr style=\"text-align: right;\">\n",
       "      <th></th>\n",
       "      <th>A</th>\n",
       "      <th>B</th>\n",
       "      <th>C</th>\n",
       "    </tr>\n",
       "  </thead>\n",
       "  <tbody>\n",
       "    <tr>\n",
       "      <th>0</th>\n",
       "      <td>1000</td>\n",
       "      <td>0</td>\n",
       "      <td>3.0</td>\n",
       "    </tr>\n",
       "    <tr>\n",
       "      <th>1</th>\n",
       "      <td>400</td>\n",
       "      <td>5</td>\n",
       "      <td>6.0</td>\n",
       "    </tr>\n",
       "    <tr>\n",
       "      <th>2</th>\n",
       "      <td>700</td>\n",
       "      <td>6</td>\n",
       "      <td>NaN</td>\n",
       "    </tr>\n",
       "    <tr>\n",
       "      <th>3</th>\n",
       "      <td>100</td>\n",
       "      <td>11</td>\n",
       "      <td>12.0</td>\n",
       "    </tr>\n",
       "    <tr>\n",
       "      <th>4</th>\n",
       "      <td>1300</td>\n",
       "      <td>0</td>\n",
       "      <td>15.0</td>\n",
       "    </tr>\n",
       "    <tr>\n",
       "      <th>5</th>\n",
       "      <td>1600</td>\n",
       "      <td>17</td>\n",
       "      <td>NaN</td>\n",
       "    </tr>\n",
       "  </tbody>\n",
       "</table>\n",
       "</div>"
      ],
      "text/plain": [
       "      A   B     C\n",
       "0  1000   0   3.0\n",
       "1   400   5   6.0\n",
       "2   700   6   NaN\n",
       "3   100  11  12.0\n",
       "4  1300   0  15.0\n",
       "5  1600  17   NaN"
      ]
     },
     "execution_count": 1,
     "metadata": {},
     "output_type": "execute_result"
    }
   ],
   "source": [
    "import pandas as pd\n",
    "\n",
    "data = pd.read_csv('dirty_data.csv')\n",
    "\n",
    "data"
   ]
  },
  {
   "cell_type": "markdown",
   "id": "bb1cf599-d66a-4d0b-94f2-5561c3be920f",
   "metadata": {},
   "source": [
    "## **Step1: Checking the data**"
   ]
  },
  {
   "cell_type": "code",
   "execution_count": 2,
   "id": "6a74a83a-f521-4c4a-8445-d2716bd6644e",
   "metadata": {},
   "outputs": [
    {
     "name": "stdout",
     "output_type": "stream",
     "text": [
      "<class 'pandas.core.frame.DataFrame'>\n",
      "RangeIndex: 6 entries, 0 to 5\n",
      "Data columns (total 3 columns):\n",
      " #   Column  Non-Null Count  Dtype  \n",
      "---  ------  --------------  -----  \n",
      " 0   A       6 non-null      int64  \n",
      " 1   B       6 non-null      int64  \n",
      " 2   C       4 non-null      float64\n",
      "dtypes: float64(1), int64(2)\n",
      "memory usage: 276.0 bytes\n"
     ]
    }
   ],
   "source": [
    "# .info() \n",
    "data.info() "
   ]
  },
  {
   "cell_type": "code",
   "execution_count": 3,
   "id": "06e5f2db-c932-4c07-afc1-7caf1eea17b2",
   "metadata": {},
   "outputs": [
    {
     "data": {
      "text/html": [
       "<div>\n",
       "<style scoped>\n",
       "    .dataframe tbody tr th:only-of-type {\n",
       "        vertical-align: middle;\n",
       "    }\n",
       "\n",
       "    .dataframe tbody tr th {\n",
       "        vertical-align: top;\n",
       "    }\n",
       "\n",
       "    .dataframe thead th {\n",
       "        text-align: right;\n",
       "    }\n",
       "</style>\n",
       "<table border=\"1\" class=\"dataframe\">\n",
       "  <thead>\n",
       "    <tr style=\"text-align: right;\">\n",
       "      <th></th>\n",
       "      <th>A</th>\n",
       "      <th>B</th>\n",
       "      <th>C</th>\n",
       "    </tr>\n",
       "  </thead>\n",
       "  <tbody>\n",
       "    <tr>\n",
       "      <th>count</th>\n",
       "      <td>6.000000</td>\n",
       "      <td>6.000000</td>\n",
       "      <td>4.000000</td>\n",
       "    </tr>\n",
       "    <tr>\n",
       "      <th>mean</th>\n",
       "      <td>850.000000</td>\n",
       "      <td>6.500000</td>\n",
       "      <td>9.000000</td>\n",
       "    </tr>\n",
       "    <tr>\n",
       "      <th>std</th>\n",
       "      <td>561.248608</td>\n",
       "      <td>6.595453</td>\n",
       "      <td>5.477226</td>\n",
       "    </tr>\n",
       "    <tr>\n",
       "      <th>min</th>\n",
       "      <td>100.000000</td>\n",
       "      <td>0.000000</td>\n",
       "      <td>3.000000</td>\n",
       "    </tr>\n",
       "    <tr>\n",
       "      <th>25%</th>\n",
       "      <td>475.000000</td>\n",
       "      <td>1.250000</td>\n",
       "      <td>5.250000</td>\n",
       "    </tr>\n",
       "    <tr>\n",
       "      <th>50%</th>\n",
       "      <td>850.000000</td>\n",
       "      <td>5.500000</td>\n",
       "      <td>9.000000</td>\n",
       "    </tr>\n",
       "    <tr>\n",
       "      <th>75%</th>\n",
       "      <td>1225.000000</td>\n",
       "      <td>9.750000</td>\n",
       "      <td>12.750000</td>\n",
       "    </tr>\n",
       "    <tr>\n",
       "      <th>max</th>\n",
       "      <td>1600.000000</td>\n",
       "      <td>17.000000</td>\n",
       "      <td>15.000000</td>\n",
       "    </tr>\n",
       "  </tbody>\n",
       "</table>\n",
       "</div>"
      ],
      "text/plain": [
       "                 A          B          C\n",
       "count     6.000000   6.000000   4.000000\n",
       "mean    850.000000   6.500000   9.000000\n",
       "std     561.248608   6.595453   5.477226\n",
       "min     100.000000   0.000000   3.000000\n",
       "25%     475.000000   1.250000   5.250000\n",
       "50%     850.000000   5.500000   9.000000\n",
       "75%    1225.000000   9.750000  12.750000\n",
       "max    1600.000000  17.000000  15.000000"
      ]
     },
     "execution_count": 3,
     "metadata": {},
     "output_type": "execute_result"
    }
   ],
   "source": [
    "# .describe()\n",
    "data.describe()"
   ]
  },
  {
   "cell_type": "code",
   "execution_count": 4,
   "id": "c28df4ff-113a-4aed-88db-88fb58b6c218",
   "metadata": {},
   "outputs": [
    {
     "name": "stdout",
     "output_type": "stream",
     "text": [
      "check: nulls\n",
      "============\n"
     ]
    },
    {
     "data": {
      "text/plain": [
       "A    0\n",
       "B    0\n",
       "C    2\n",
       "dtype: int64"
      ]
     },
     "execution_count": 4,
     "metadata": {},
     "output_type": "execute_result"
    }
   ],
   "source": [
    "# .isnull().sum() / isna.sum() -> check null \n",
    "print(\"check: nulls\")\n",
    "print(\"============\")\n",
    "data.isna().sum()"
   ]
  },
  {
   "cell_type": "markdown",
   "id": "4f05f19d-661d-498d-bedd-8d37ad1fdef7",
   "metadata": {},
   "source": [
    "## **Step2: Handle missing values**"
   ]
  },
  {
   "cell_type": "code",
   "execution_count": 5,
   "id": "9953da6f-3f58-4b79-8969-592b69ef9e9d",
   "metadata": {},
   "outputs": [
    {
     "data": {
      "text/html": [
       "<div>\n",
       "<style scoped>\n",
       "    .dataframe tbody tr th:only-of-type {\n",
       "        vertical-align: middle;\n",
       "    }\n",
       "\n",
       "    .dataframe tbody tr th {\n",
       "        vertical-align: top;\n",
       "    }\n",
       "\n",
       "    .dataframe thead th {\n",
       "        text-align: right;\n",
       "    }\n",
       "</style>\n",
       "<table border=\"1\" class=\"dataframe\">\n",
       "  <thead>\n",
       "    <tr style=\"text-align: right;\">\n",
       "      <th></th>\n",
       "      <th>A</th>\n",
       "      <th>B</th>\n",
       "      <th>C</th>\n",
       "    </tr>\n",
       "  </thead>\n",
       "  <tbody>\n",
       "    <tr>\n",
       "      <th>0</th>\n",
       "      <td>1000</td>\n",
       "      <td>0</td>\n",
       "      <td>3.0</td>\n",
       "    </tr>\n",
       "    <tr>\n",
       "      <th>1</th>\n",
       "      <td>400</td>\n",
       "      <td>5</td>\n",
       "      <td>6.0</td>\n",
       "    </tr>\n",
       "    <tr>\n",
       "      <th>2</th>\n",
       "      <td>700</td>\n",
       "      <td>6</td>\n",
       "      <td>9.0</td>\n",
       "    </tr>\n",
       "    <tr>\n",
       "      <th>3</th>\n",
       "      <td>100</td>\n",
       "      <td>11</td>\n",
       "      <td>12.0</td>\n",
       "    </tr>\n",
       "    <tr>\n",
       "      <th>4</th>\n",
       "      <td>1300</td>\n",
       "      <td>0</td>\n",
       "      <td>15.0</td>\n",
       "    </tr>\n",
       "    <tr>\n",
       "      <th>5</th>\n",
       "      <td>1600</td>\n",
       "      <td>17</td>\n",
       "      <td>9.0</td>\n",
       "    </tr>\n",
       "  </tbody>\n",
       "</table>\n",
       "</div>"
      ],
      "text/plain": [
       "      A   B     C\n",
       "0  1000   0   3.0\n",
       "1   400   5   6.0\n",
       "2   700   6   9.0\n",
       "3   100  11  12.0\n",
       "4  1300   0  15.0\n",
       "5  1600  17   9.0"
      ]
     },
     "execution_count": 5,
     "metadata": {},
     "output_type": "execute_result"
    }
   ],
   "source": [
    "# .dropna(inplace=True) -> remove the rows that contain null value\n",
    "\n",
    "# fillna(new_value, inplace=True) -> replace cell that is null by new_value\n",
    "# data.fillna(0, inplace=True) # fill by 0\n",
    "\n",
    "for col in data.columns:\n",
    "    data[col] = data[col].fillna(data[col].mean()) # fill by mean (or max, min) value of each column\n",
    "\n",
    "# data.fillna(data.mean(), inplace=True) # fill by mean of DataFrame (or max, min)\n",
    "data\n",
    "\n",
    "# *inplace: sửa trực tiếp trên data gốc"
   ]
  },
  {
   "cell_type": "code",
   "execution_count": 6,
   "id": "32971128-6269-4d5f-a593-d39dff2b0c2a",
   "metadata": {},
   "outputs": [
    {
     "name": "stdout",
     "output_type": "stream",
     "text": [
      "check: 0s\n",
      "=========\n",
      "A    0\n",
      "B    2\n",
      "C    0\n",
      "dtype: int64\n"
     ]
    },
    {
     "data": {
      "text/html": [
       "<div>\n",
       "<style scoped>\n",
       "    .dataframe tbody tr th:only-of-type {\n",
       "        vertical-align: middle;\n",
       "    }\n",
       "\n",
       "    .dataframe tbody tr th {\n",
       "        vertical-align: top;\n",
       "    }\n",
       "\n",
       "    .dataframe thead th {\n",
       "        text-align: right;\n",
       "    }\n",
       "</style>\n",
       "<table border=\"1\" class=\"dataframe\">\n",
       "  <thead>\n",
       "    <tr style=\"text-align: right;\">\n",
       "      <th></th>\n",
       "      <th>A</th>\n",
       "      <th>B</th>\n",
       "      <th>C</th>\n",
       "    </tr>\n",
       "  </thead>\n",
       "  <tbody>\n",
       "    <tr>\n",
       "      <th>0</th>\n",
       "      <td>1000</td>\n",
       "      <td>6.5</td>\n",
       "      <td>3.0</td>\n",
       "    </tr>\n",
       "    <tr>\n",
       "      <th>1</th>\n",
       "      <td>400</td>\n",
       "      <td>5.0</td>\n",
       "      <td>6.0</td>\n",
       "    </tr>\n",
       "    <tr>\n",
       "      <th>2</th>\n",
       "      <td>700</td>\n",
       "      <td>6.0</td>\n",
       "      <td>9.0</td>\n",
       "    </tr>\n",
       "    <tr>\n",
       "      <th>3</th>\n",
       "      <td>100</td>\n",
       "      <td>11.0</td>\n",
       "      <td>12.0</td>\n",
       "    </tr>\n",
       "    <tr>\n",
       "      <th>4</th>\n",
       "      <td>1300</td>\n",
       "      <td>6.5</td>\n",
       "      <td>15.0</td>\n",
       "    </tr>\n",
       "    <tr>\n",
       "      <th>5</th>\n",
       "      <td>1600</td>\n",
       "      <td>17.0</td>\n",
       "      <td>9.0</td>\n",
       "    </tr>\n",
       "  </tbody>\n",
       "</table>\n",
       "</div>"
      ],
      "text/plain": [
       "      A     B     C\n",
       "0  1000   6.5   3.0\n",
       "1   400   5.0   6.0\n",
       "2   700   6.0   9.0\n",
       "3   100  11.0  12.0\n",
       "4  1300   6.5  15.0\n",
       "5  1600  17.0   9.0"
      ]
     },
     "execution_count": 6,
     "metadata": {},
     "output_type": "execute_result"
    }
   ],
   "source": [
    "# sometime, u need to remove 0, ... \n",
    "print(\"check: 0s\")\n",
    "print(\"=========\")\n",
    "print(data.eq(0).sum())\n",
    "\n",
    "# thay giá trị 0 bằng giá trị mean của data\n",
    "data.replace(0, data.mean(), inplace=True)\n",
    "data"
   ]
  },
  {
   "cell_type": "markdown",
   "id": "b2b996ad-6df8-4034-8f9b-e4d6ec61ff3d",
   "metadata": {},
   "source": [
    "## **Step3: Handle duplicate rows**"
   ]
  },
  {
   "cell_type": "code",
   "execution_count": 7,
   "id": "ab20752d-8ffe-4658-a25e-edcd8457d209",
   "metadata": {},
   "outputs": [
    {
     "data": {
      "text/html": [
       "<div>\n",
       "<style scoped>\n",
       "    .dataframe tbody tr th:only-of-type {\n",
       "        vertical-align: middle;\n",
       "    }\n",
       "\n",
       "    .dataframe tbody tr th {\n",
       "        vertical-align: top;\n",
       "    }\n",
       "\n",
       "    .dataframe thead th {\n",
       "        text-align: right;\n",
       "    }\n",
       "</style>\n",
       "<table border=\"1\" class=\"dataframe\">\n",
       "  <thead>\n",
       "    <tr style=\"text-align: right;\">\n",
       "      <th></th>\n",
       "      <th>A</th>\n",
       "      <th>B</th>\n",
       "      <th>C</th>\n",
       "    </tr>\n",
       "  </thead>\n",
       "  <tbody>\n",
       "    <tr>\n",
       "      <th>0</th>\n",
       "      <td>1000</td>\n",
       "      <td>6.5</td>\n",
       "      <td>3.0</td>\n",
       "    </tr>\n",
       "    <tr>\n",
       "      <th>1</th>\n",
       "      <td>400</td>\n",
       "      <td>5.0</td>\n",
       "      <td>6.0</td>\n",
       "    </tr>\n",
       "    <tr>\n",
       "      <th>2</th>\n",
       "      <td>700</td>\n",
       "      <td>6.0</td>\n",
       "      <td>9.0</td>\n",
       "    </tr>\n",
       "    <tr>\n",
       "      <th>3</th>\n",
       "      <td>100</td>\n",
       "      <td>11.0</td>\n",
       "      <td>12.0</td>\n",
       "    </tr>\n",
       "    <tr>\n",
       "      <th>4</th>\n",
       "      <td>1300</td>\n",
       "      <td>6.5</td>\n",
       "      <td>15.0</td>\n",
       "    </tr>\n",
       "    <tr>\n",
       "      <th>5</th>\n",
       "      <td>1600</td>\n",
       "      <td>17.0</td>\n",
       "      <td>9.0</td>\n",
       "    </tr>\n",
       "  </tbody>\n",
       "</table>\n",
       "</div>"
      ],
      "text/plain": [
       "      A     B     C\n",
       "0  1000   6.5   3.0\n",
       "1   400   5.0   6.0\n",
       "2   700   6.0   9.0\n",
       "3   100  11.0  12.0\n",
       "4  1300   6.5  15.0\n",
       "5  1600  17.0   9.0"
      ]
     },
     "execution_count": 7,
     "metadata": {},
     "output_type": "execute_result"
    }
   ],
   "source": [
    "# .duplicated(keep='Fisrt')\n",
    "    # - keep='First' (default) -> All duplicates are marked as True except for the first occurrence\n",
    "    # - keep='Last' -> All duplicates are marked as True except for the last occurrence\n",
    "    # - keep=False -> All duplicates are marked as True\n",
    "# data = data[data.duplicated()] # keep first\n",
    "\n",
    "data.drop_duplicates(keep='first', inplace=True) # -> remove duplicate rows, keep first\n",
    "#.drop_duplicates(subset=[columns], keep, inplace)\n",
    "\n",
    "data"
   ]
  },
  {
   "cell_type": "markdown",
   "id": "278b55d5-c6ff-4e74-8bbd-6e2d3a6ed535",
   "metadata": {},
   "source": [
    "## **Step4: Nomalizing Datatype**"
   ]
  },
  {
   "cell_type": "code",
   "execution_count": 8,
   "id": "b0c152d8-87a9-4b54-b9ec-97cfc00deba1",
   "metadata": {},
   "outputs": [
    {
     "data": {
      "text/plain": [
       "A      int64\n",
       "B    float64\n",
       "C    float64\n",
       "dtype: object"
      ]
     },
     "execution_count": 8,
     "metadata": {},
     "output_type": "execute_result"
    }
   ],
   "source": [
    "data.dtypes # get datatype of columns"
   ]
  },
  {
   "cell_type": "markdown",
   "id": "07be8767-86d2-471c-81a0-577bec680646",
   "metadata": {},
   "source": [
    "`df[column_name].astype(new_type)` -> convert column A's datatype to new_type -> int, float, str, bool, \"category\"...   \n",
    "`df[column_name]  = pd.to_datetime(df[column_name], format=\"%d %m %Y\")` -> convert to datetime  \n",
    "    \n",
    "\n",
    "cast multiple column:\n",
    "`df = df.astype({\"A\":int, \"B\": float, C: \"datetime64[ns]\"})`\n"
   ]
  },
  {
   "cell_type": "markdown",
   "id": "9ced9d01-ce43-4132-86f5-35d507acc97e",
   "metadata": {},
   "source": [
    "## **Step5: Nomalizing String**\n",
    "`df[column] = df[column].str.method()`  \n",
    "- `strip()`\n",
    "- `lower()`, `upper()`\n",
    "- `replace(',', '')`  \n",
    "    ..v.v..\n",
    "    "
   ]
  },
  {
   "cell_type": "markdown",
   "id": "f14965d3-3ece-4b53-864d-a5518c486cb4",
   "metadata": {},
   "source": [
    "## **Step6: Nomalizing/Scaling Columns**"
   ]
  },
  {
   "cell_type": "code",
   "execution_count": 9,
   "id": "66a948ce-a726-4029-986e-7e8b325a8e0c",
   "metadata": {},
   "outputs": [
    {
     "data": {
      "text/html": [
       "<div>\n",
       "<style scoped>\n",
       "    .dataframe tbody tr th:only-of-type {\n",
       "        vertical-align: middle;\n",
       "    }\n",
       "\n",
       "    .dataframe tbody tr th {\n",
       "        vertical-align: top;\n",
       "    }\n",
       "\n",
       "    .dataframe thead th {\n",
       "        text-align: right;\n",
       "    }\n",
       "</style>\n",
       "<table border=\"1\" class=\"dataframe\">\n",
       "  <thead>\n",
       "    <tr style=\"text-align: right;\">\n",
       "      <th></th>\n",
       "      <th>A</th>\n",
       "      <th>B</th>\n",
       "      <th>C</th>\n",
       "    </tr>\n",
       "  </thead>\n",
       "  <tbody>\n",
       "    <tr>\n",
       "      <th>0</th>\n",
       "      <td>1000</td>\n",
       "      <td>6.5</td>\n",
       "      <td>3.0</td>\n",
       "    </tr>\n",
       "    <tr>\n",
       "      <th>1</th>\n",
       "      <td>400</td>\n",
       "      <td>5.0</td>\n",
       "      <td>6.0</td>\n",
       "    </tr>\n",
       "    <tr>\n",
       "      <th>2</th>\n",
       "      <td>700</td>\n",
       "      <td>6.0</td>\n",
       "      <td>9.0</td>\n",
       "    </tr>\n",
       "    <tr>\n",
       "      <th>3</th>\n",
       "      <td>100</td>\n",
       "      <td>11.0</td>\n",
       "      <td>12.0</td>\n",
       "    </tr>\n",
       "    <tr>\n",
       "      <th>4</th>\n",
       "      <td>1300</td>\n",
       "      <td>6.5</td>\n",
       "      <td>15.0</td>\n",
       "    </tr>\n",
       "  </tbody>\n",
       "</table>\n",
       "</div>"
      ],
      "text/plain": [
       "      A     B     C\n",
       "0  1000   6.5   3.0\n",
       "1   400   5.0   6.0\n",
       "2   700   6.0   9.0\n",
       "3   100  11.0  12.0\n",
       "4  1300   6.5  15.0"
      ]
     },
     "execution_count": 9,
     "metadata": {},
     "output_type": "execute_result"
    }
   ],
   "source": [
    "# Nomalizing Columns: removing outliers\n",
    "\n",
    "# Turkey Fences -> IQR\n",
    "import numpy as np\n",
    "# outliers is < Q1 - 1.5*IQR or > Q3 + 1.5*IQR\n",
    "# Q1, Q3 the value in the dataset that holds 25% / 75 of the values below it\n",
    "# IQR = Q3-Q1\n",
    "\n",
    "data1 = data.copy()\n",
    "\n",
    "for column in data1.columns:\n",
    "    Q1, Q3 = np.percentile(data1[column], [25, 75])\n",
    "    IQR = Q3-Q1\n",
    "    _min = Q1-1.5*IQR\n",
    "    _max = Q3+1.5*IQR\n",
    "    data1 = data1[(data1[column] >= _min) & (data1[column] <= _max)]\n",
    "\n",
    "data1\n",
    "\n",
    "# Ưu điểm: dễ áp dụng, không cần giả định phân phối.\n",
    "# Nhược điểm: không tốt với dữ liệu không đều, nhiều cực trị."
   ]
  },
  {
   "cell_type": "code",
   "execution_count": 10,
   "id": "003d51c9-7505-4b30-b618-252aee9000ed",
   "metadata": {},
   "outputs": [
    {
     "data": {
      "text/html": [
       "<div>\n",
       "<style scoped>\n",
       "    .dataframe tbody tr th:only-of-type {\n",
       "        vertical-align: middle;\n",
       "    }\n",
       "\n",
       "    .dataframe tbody tr th {\n",
       "        vertical-align: top;\n",
       "    }\n",
       "\n",
       "    .dataframe thead th {\n",
       "        text-align: right;\n",
       "    }\n",
       "</style>\n",
       "<table border=\"1\" class=\"dataframe\">\n",
       "  <thead>\n",
       "    <tr style=\"text-align: right;\">\n",
       "      <th></th>\n",
       "      <th>A</th>\n",
       "      <th>B</th>\n",
       "      <th>C</th>\n",
       "    </tr>\n",
       "  </thead>\n",
       "  <tbody>\n",
       "    <tr>\n",
       "      <th>0</th>\n",
       "      <td>1000</td>\n",
       "      <td>6.5</td>\n",
       "      <td>3.0</td>\n",
       "    </tr>\n",
       "    <tr>\n",
       "      <th>1</th>\n",
       "      <td>400</td>\n",
       "      <td>5.0</td>\n",
       "      <td>6.0</td>\n",
       "    </tr>\n",
       "    <tr>\n",
       "      <th>2</th>\n",
       "      <td>700</td>\n",
       "      <td>6.0</td>\n",
       "      <td>9.0</td>\n",
       "    </tr>\n",
       "    <tr>\n",
       "      <th>3</th>\n",
       "      <td>100</td>\n",
       "      <td>11.0</td>\n",
       "      <td>12.0</td>\n",
       "    </tr>\n",
       "    <tr>\n",
       "      <th>4</th>\n",
       "      <td>1300</td>\n",
       "      <td>6.5</td>\n",
       "      <td>15.0</td>\n",
       "    </tr>\n",
       "    <tr>\n",
       "      <th>5</th>\n",
       "      <td>1600</td>\n",
       "      <td>17.0</td>\n",
       "      <td>9.0</td>\n",
       "    </tr>\n",
       "  </tbody>\n",
       "</table>\n",
       "</div>"
      ],
      "text/plain": [
       "      A     B     C\n",
       "0  1000   6.5   3.0\n",
       "1   400   5.0   6.0\n",
       "2   700   6.0   9.0\n",
       "3   100  11.0  12.0\n",
       "4  1300   6.5  15.0\n",
       "5  1600  17.0   9.0"
      ]
     },
     "execution_count": 10,
     "metadata": {},
     "output_type": "execute_result"
    }
   ],
   "source": [
    "# based on Z-score\n",
    "\n",
    "data2 = data.copy()\n",
    "\n",
    "for column in data2.columns:\n",
    "    mean = data2.mean()\n",
    "    std = data2.std()\n",
    "    z_score = np.abs([(y-mean)/std for y in data2[column]])\n",
    "    # z_score > 3 or z_score < -3 -> outliers\n",
    "    data2 = data2[z_score <= 3]\n",
    "\n",
    "data2\n",
    "    "
   ]
  },
  {
   "cell_type": "code",
   "execution_count": 11,
   "id": "876ed4e9-3b86-4c42-821d-7dc52b2ebc0d",
   "metadata": {},
   "outputs": [
    {
     "name": "stdout",
     "output_type": "stream",
     "text": [
      "      A         B     C\n",
      "0  0.75  0.250000  0.00\n",
      "1  0.25  0.000000  0.25\n",
      "2  0.50  0.166667  0.50\n",
      "3  0.00  1.000000  0.75\n",
      "4  1.00  0.250000  1.00\n",
      "     A         B     C\n",
      "0  0.6  0.125000  0.00\n",
      "1  0.2  0.000000  0.25\n",
      "2  0.4  0.083333  0.50\n",
      "3  0.0  0.500000  0.75\n",
      "4  0.8  0.125000  1.00\n",
      "5  1.0  1.000000  0.50\n"
     ]
    }
   ],
   "source": [
    "# Scale\n",
    "# sklearn.preprocessing.MinMaxScaler().fit_transfrom(data.values.astype(float))\n",
    "# scale all values to the (0, 1) range\n",
    "from sklearn import preprocessing\n",
    "\n",
    "# Turkey Fences\n",
    "x1 = data1.values.astype(float)\n",
    "# Z_Score\n",
    "x2 = data2.values.astype(float)\n",
    "\n",
    "min_max_scaler = preprocessing.MinMaxScaler()\n",
    "x1_scaled = min_max_scaler.fit_transform(x1)\n",
    "x2_scaled = min_max_scaler.fit_transform(x2)\n",
    "\n",
    "print(pd.DataFrame(x1_scaled, columns=data.columns))\n",
    "print(pd.DataFrame(x2_scaled, columns=data.columns))\n"
   ]
  }
 ],
 "metadata": {
  "kernelspec": {
   "display_name": "Python 3 (ipykernel)",
   "language": "python",
   "name": "python3"
  },
  "language_info": {
   "codemirror_mode": {
    "name": "ipython",
    "version": 3
   },
   "file_extension": ".py",
   "mimetype": "text/x-python",
   "name": "python",
   "nbconvert_exporter": "python",
   "pygments_lexer": "ipython3",
   "version": "3.11.4"
  }
 },
 "nbformat": 4,
 "nbformat_minor": 5
}
