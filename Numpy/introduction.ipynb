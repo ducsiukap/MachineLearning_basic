{
 "cells": [
  {
   "cell_type": "markdown",
   "id": "ddc485ac-dbe5-4b18-8dd7-3ea6ad0476be",
   "metadata": {},
   "source": [
    "# Numerical Python - NumPy\n",
    "`NumPy` is the core library for `mathematical computing` and `data science`. `NumPy` overcomes the disadvantages of Python List, such as:  \n",
    "- speed\n",
    "    - Python List elements is `Object pointer`\n",
    "    - NumPy saves its elements in the `contiguous memory`  \n",
    "- memory\n",
    "    - List's elements are `object` (include type, pointer, ...)\n",
    "    - Numpy's element has the same type of `int32` or `float64`\n",
    "- support for `large`, `high-performance multidimensional arrays` and `matrices`, along with a large library of high-level mathematical, linear algebra, and probability calculations functions to operate on these arrays.\n",
    "\n",
    "### Main features of NumPy\n",
    "- N-dimensional array (`ndarray`)\n",
    "- Vectorized operations: Numpy not use Python loop, use C/Fortran code\n",
    "- Broatcast\n",
    "- Linear algebra, FFT, random.\n",
    "- Well integrates with pandas, scikit-learn, tensorflow, ...\n",
    "\n",
    "### Install Numpy\n",
    "In `cmd`:  \n",
    "```\n",
    "pip install numpy\n",
    "```\n",
    "In `jupyter notebook`:  \n",
    "```\n",
    "!pip install numpy\n",
    "```\n",
    "To check version of numpy:\n",
    "```\n",
    "import numpy as np\n",
    "print(np.__version__)\n",
    "```"
   ]
  },
  {
   "cell_type": "code",
   "execution_count": 12,
   "id": "0065a68d-8882-4c07-8143-2d825dfe0943",
   "metadata": {},
   "outputs": [
    {
     "name": "stdout",
     "output_type": "stream",
     "text": [
      ">>> array: [1 2 3 4 5]\n",
      ">>> numpy array attributes:\n",
      "\tarr.shape: (5,)\n",
      "\tarr.dtype: int64\n",
      "\tarr.ndim: 1\n",
      "\tarr.size: 5\n",
      "\tarr.itemsize: 8\n"
     ]
    }
   ],
   "source": [
    "import numpy as np\n",
    "\n",
    "# create an array\n",
    "arr = np.array([1, 2, 3, 4, 5])\n",
    "print(f'>>> array: {arr}')\n",
    "\n",
    "# ndarray attributes:\n",
    "print('>>> numpy array attributes:')\n",
    "print(f'\\tarr.shape: {arr.shape}') # shape \n",
    "print(f'\\tarr.dtype: {arr.dtype}') # elems's type\n",
    "print(f'\\tarr.ndim: {arr.ndim}') # number of dimension\n",
    "print(f'\\tarr.size: {arr.size}') # total of elems\n",
    "print(f'\\tarr.itemsize: {arr.itemsize}') # size of each elem (bytes)\n"
   ]
  },
  {
   "cell_type": "code",
   "execution_count": null,
   "id": "d3ab0c8c-c615-461c-890f-67e4f858c2a2",
   "metadata": {},
   "outputs": [],
   "source": []
  }
 ],
 "metadata": {
  "kernelspec": {
   "display_name": "Python 3 (ipykernel)",
   "language": "python",
   "name": "python3"
  },
  "language_info": {
   "codemirror_mode": {
    "name": "ipython",
    "version": 3
   },
   "file_extension": ".py",
   "mimetype": "text/x-python",
   "name": "python",
   "nbconvert_exporter": "python",
   "pygments_lexer": "ipython3",
   "version": "3.11.4"
  }
 },
 "nbformat": 4,
 "nbformat_minor": 5
}
