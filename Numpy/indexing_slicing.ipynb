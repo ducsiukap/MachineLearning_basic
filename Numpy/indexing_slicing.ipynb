{
 "cells": [
  {
   "cell_type": "markdown",
   "id": "69cd2d57-693e-466e-879c-fdca3ccf628d",
   "metadata": {},
   "source": [
    "# Indexing, Slicing"
   ]
  },
  {
   "cell_type": "code",
   "execution_count": 53,
   "id": "cd5df427-59c8-4d81-80ac-b63f45177b34",
   "metadata": {},
   "outputs": [
    {
     "name": "stdout",
     "output_type": "stream",
     "text": [
      "[[ 6 47 16]\n",
      " [35  1 49]\n",
      " [27  7 42]]\n",
      "[72 28 89]\n"
     ]
    }
   ],
   "source": [
    "import numpy as np\n",
    "\n",
    "a = np.random.randint(1, 100, (3, 3)) # tạo ma trận 3x3 các số ngẫu nhiên trong [1, 100)\n",
    "b = np.random.randint(1, 100, 3)\n",
    "\n",
    "print(a)\n",
    "print(b)"
   ]
  },
  {
   "cell_type": "code",
   "execution_count": 54,
   "id": "be3060b2-c1f3-4aa2-9aa0-702e5d5f0ec5",
   "metadata": {},
   "outputs": [
    {
     "name": "stdout",
     "output_type": "stream",
     "text": [
      "\n",
      "[35  1 49]\n",
      "1\n",
      "[27  7 42]\n",
      "6\n"
     ]
    }
   ],
   "source": [
    "# truy cap phan tu thong qua index\n",
    "print()\n",
    "print(a[1])\n",
    "print(a[1, 1]) \n",
    "print(a[-1]) # a[2]\n",
    "print(a[-3, -3]) # a[0, 0]\n",
    "\n"
   ]
  },
  {
   "cell_type": "code",
   "execution_count": 55,
   "id": "708c4642-4036-4def-842c-519d510a53d7",
   "metadata": {},
   "outputs": [
    {
     "name": "stdout",
     "output_type": "stream",
     "text": [
      "\n",
      "[ True False  True]\n",
      "[72 89]\n",
      "[[0 1 0]\n",
      " [1 1 1]\n",
      " [1 1 0]]\n",
      "[47 35  1 49 27  7]\n"
     ]
    }
   ],
   "source": [
    "#boolean indexing -> 1D array\n",
    "print()\n",
    "print(b>50) # print boolean value\n",
    "print(b[b>50]) # print elem that has boolean value is true\n",
    "odd_in_a = a[a % 2 == 1]\n",
    "print(a % 2)\n",
    "print(odd_in_a)\n",
    "\n"
   ]
  },
  {
   "cell_type": "code",
   "execution_count": 56,
   "id": "66a3c834-4e96-4ab4-80cb-ffb52d86a937",
   "metadata": {},
   "outputs": [
    {
     "name": "stdout",
     "output_type": "stream",
     "text": [
      "\n",
      "(array([0, 1, 1, 1, 2, 2]), array([1, 0, 1, 2, 0, 1]))\n",
      "[[-1 47 -1]\n",
      " [35  1 49]\n",
      " [27  7 -1]]\n",
      "[]\n"
     ]
    }
   ],
   "source": [
    "# .where() -> same size, modified values\n",
    "print()\n",
    "# np.where(condition, value_if_true, value_if_false)\n",
    "# nếu chỉ truyền condition => trả về array([indexs]) thỏa mãn condition dạng tuple\n",
    "# ex: (array([0, 0, 0, 1, 1, 1, 2]), array([0, 1, 2, 0, 1, 2, 1])) -> (0, 0), (0, 1), (0, 2) ... .\n",
    "indexs = np.where(a%2 == 1)\n",
    "values = np.where(a%2 == 1, a, -1) # true -> elem tuong ung, false -> -1 # a[indexs]\n",
    "print(indexs)\n",
    "print(values)\n",
    "# argwhere() # trả về mảng 2 chiều các tọa độ\n",
    "print(np.argwhere(a > 50))\n"
   ]
  },
  {
   "cell_type": "code",
   "execution_count": 57,
   "id": "56b3ad78-27aa-4543-be09-61212a695d0f",
   "metadata": {},
   "outputs": [
    {
     "name": "stdout",
     "output_type": "stream",
     "text": [
      "\n",
      "[47  1]\n",
      "[72 89]\n"
     ]
    }
   ],
   "source": [
    "print()\n",
    "# fancy index: truy cập nhiều phần tử trong 1 lần gọi\n",
    "# => arr[[index_list]]\n",
    "print(a[(0, 1), (1, 1)])\n",
    "print(b[[0, 2]])\n",
    "\n"
   ]
  },
  {
   "cell_type": "code",
   "execution_count": 58,
   "id": "4d5924ea-6f7e-4b20-a891-973c9ef81577",
   "metadata": {},
   "outputs": [
    {
     "name": "stdout",
     "output_type": "stream",
     "text": [
      "\n",
      "[72 28 89]\n",
      "[72 28]\n",
      "[49 42]\n",
      "[[ 6 47]\n",
      " [35  1]\n",
      " [27  7]]\n"
     ]
    }
   ],
   "source": [
    "# slicing\n",
    "print()\n",
    "# ma trận n chiều => chỉ ra khoảng cho từng chiều\n",
    "print(b[:]) # print(b)\n",
    "print(b[0:2]) # [0, 2) => [0, 1]\n",
    "print(a[1:, 2]) # lấy phần từ thứ 3 tại hàng 1, 2\n",
    "print(a[:, :2]) # lấy phần từ 0, 1 tại tất cả các hàng\n",
    "\n"
   ]
  },
  {
   "cell_type": "code",
   "execution_count": 59,
   "id": "199835c6-e28c-4f61-89c0-6e85459ae281",
   "metadata": {},
   "outputs": [
    {
     "name": "stdout",
     "output_type": "stream",
     "text": [
      "a = [[ 6 47 16]\n",
      " [35  1 49]\n",
      " [27  7 42]]\n",
      "aa = [[35  1 49]\n",
      " [27  7 42]]\n",
      "aa = [[-1  1 49]\n",
      " [27  7 42]]\n",
      "a = [[ 6 47 16]\n",
      " [-1  1 49]\n",
      " [27  7 42]]\n"
     ]
    }
   ],
   "source": [
    "# slice is reference:\n",
    "print(f'a = {a}')\n",
    "aa = a[1:]\n",
    "print(f'aa = {aa}')\n",
    "aa[0, 0] = -1 # thay a[0, 0] = -1 -> a[1, 0] = -1\n",
    "print(f'aa = {aa}')\n",
    "print(f'a = {a}')"
   ]
  }
 ],
 "metadata": {
  "kernelspec": {
   "display_name": "Python 3 (ipykernel)",
   "language": "python",
   "name": "python3"
  },
  "language_info": {
   "codemirror_mode": {
    "name": "ipython",
    "version": 3
   },
   "file_extension": ".py",
   "mimetype": "text/x-python",
   "name": "python",
   "nbconvert_exporter": "python",
   "pygments_lexer": "ipython3",
   "version": "3.11.4"
  }
 },
 "nbformat": 4,
 "nbformat_minor": 5
}
