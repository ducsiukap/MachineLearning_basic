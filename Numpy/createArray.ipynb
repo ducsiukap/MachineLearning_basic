{
 "cells": [
  {
   "cell_type": "code",
   "execution_count": 2,
   "id": "05e044e4-abe4-4e43-81f9-192b4570c7d0",
   "metadata": {},
   "outputs": [],
   "source": [
    "import numpy as np"
   ]
  },
  {
   "cell_type": "code",
   "execution_count": 3,
   "id": "e6fcf667-0db5-4616-87b4-d974a1d6e637",
   "metadata": {},
   "outputs": [
    {
     "name": "stdout",
     "output_type": "stream",
     "text": [
      "[1 2 3]\n",
      "[1 2 3]\n"
     ]
    }
   ],
   "source": [
    "# using np.array()\n",
    "a = np.array([1, 2, 3]) # from array\n",
    "print(a)\n",
    "\n",
    "a = np.array((1, 2, 3)) # from tuple\n",
    "print(a)\n",
    "\n",
    "a = np.array([[1, 2], [3, 4]]) # 2D array"
   ]
  },
  {
   "cell_type": "code",
   "execution_count": 10,
   "id": "dc346528-1e05-4cec-a9ab-db44cad7d8a3",
   "metadata": {},
   "outputs": [
    {
     "name": "stdout",
     "output_type": "stream",
     "text": [
      "[0. 0.]\n",
      "[1. 1.]\n",
      "[[5 5]\n",
      " [5 5]]\n",
      "[[1. 0.]\n",
      " [0. 1.]]\n"
     ]
    }
   ],
   "source": [
    "# using numpy built-in function \n",
    "a = np.zeros((2)) # np.zeros(size)\n",
    "print(a)\n",
    "\n",
    "a = np.ones((2)) # np.ones(size)\n",
    "print(a) \n",
    "\n",
    "a = np.full((2, 2), 5) # np.full(size, fill_value)\n",
    "print(a)\n",
    "\n",
    "a = np.eye(2) # np.eye(dimension)\n",
    "print(a)"
   ]
  },
  {
   "cell_type": "code",
   "execution_count": 24,
   "id": "0641880c-c790-4e8b-9137-22074d13cdef",
   "metadata": {},
   "outputs": [
    {
     "name": "stdout",
     "output_type": "stream",
     "text": [
      "[0 1 2 3 4 5 6 7 8 9]\n",
      "[0.         0.66666667 1.33333333 2.        ]\n",
      "[  10.           46.41588834  215.443469   1000.        ]\n"
     ]
    }
   ],
   "source": [
    "# create a list \n",
    "print(np.arange(0, 10)) # np.arange(start, end, step)\n",
    " \n",
    "print(np.linspace(0, 2, 4)) # np.linspace(start, end, number_of_elems, endpoint=True) -> 4 số từ 0 tới 2 (chia đều)\n",
    "\n",
    "print(np.logspace(1, 3, 4)) # np.logspace(start, stop, num, endpoint=True, base=10) -> tạo num số phân bố đều từ base**start tới base**end\n",
    "# endpoint: boolean -> lấy giá trị cuối cùng trong khoảng? "
   ]
  },
  {
   "cell_type": "code",
   "execution_count": 120,
   "id": "31faa2dd-abaa-4b6a-ba17-643a1357ea19",
   "metadata": {},
   "outputs": [
    {
     "name": "stdout",
     "output_type": "stream",
     "text": [
      "[[6.56455335e-01 5.09262200e-01 4.79883391e-01]\n",
      " [9.55574145e-01 1.20335695e-05 2.46978701e-01]]\n",
      "[[9 7]\n",
      " [6 8]]\n",
      "[[-1.06607    -0.14521133]\n",
      " [ 0.23785784 -1.63909341]]\n",
      "[ -0.61574871  21.19009946 -17.99640352   9.38133382  27.60564884]\n",
      "7.912985978403064 262.05490767133404 16.188110071016137\n",
      "[  9.38133382  27.60564884 -17.99640352  -0.61574871  21.19009946]\n",
      "[11  4 10]\n",
      "[5 9 4 3 6]\n"
     ]
    }
   ],
   "source": [
    "# using random\n",
    "# np.random.seed(13) # sử dụng seed để mỗi lần chạy cho kết quả random giống nhau, tham số của seed có thể là bất cứ số nào\n",
    "\n",
    "print(np.random.rand(2, 3)) # sinh 2x3 array các giá trị trong [0, 1) -> .rand(n_dimensions)\n",
    "# tương tự: np.random.random((2, 3)) -> .random(shape)\n",
    "\n",
    "print(np.random.randint(3, 13, size=(2, 2))) # randint(start, stop, size)\n",
    "# -> sinh số nguyên trong [0, 13) vào mảng 2x2\n",
    "\n",
    "# sinh theo Phân phối chuẩn\n",
    "a = np.random.randn(2, 2) # sinh mảng 2x2 từ N(0, 1)\n",
    "print(a)\n",
    "# hoặc\n",
    "a = np.random.normal(loc=3, scale=13, size=5) # loc=0, scale=1 -> randn \n",
    "# sinh 1D array có 5 phần tử theo phân phối chuẩn với :\n",
    "# giá trị kỳ vọng (loc) = 2\n",
    "# độ lẹch chuẩn (scale) = 3\n",
    "# phân bố chuẩn N(loc, scale**2)\n",
    "print(a)\n",
    "# các tham só của phân bố chuẩn\n",
    "print(a.mean(), a.var(), a.std()) # trung bình, phương sai, độ lẹch chuẩn\n",
    "\n",
    "# xáo trộn phần tử của 1 array\n",
    "np.random.shuffle(a)\n",
    "print(a)\n",
    "\n",
    "# chọn\n",
    "a = 13\n",
    "print(np.random.choice(a, size=3))\n",
    "a = np.arange(10)\n",
    "print(np.random.choice(a, size=5, replace=True))\n",
    "# .choice(a, size, replace=True) \n",
    "# a là số -> chọn trong [0, a-1)\n",
    "# a là array -> chọn phần tử từ array\n",
    "# replace: cho phép chọn trùng ?"
   ]
  },
  {
   "cell_type": "markdown",
   "id": "a7e24a2d-b8b9-40e3-ae3e-52af4a87b997",
   "metadata": {},
   "source": [
    "### Read more about:\n",
    "- `np.loadtxt()` → đọc dữ liệu từ file text.\n",
    "\n",
    "- `np.genfromtxt()` → đọc CSV.\n",
    "\n",
    "- `np.load()` → đọc file .npy."
   ]
  }
 ],
 "metadata": {
  "kernelspec": {
   "display_name": "Python 3 (ipykernel)",
   "language": "python",
   "name": "python3"
  },
  "language_info": {
   "codemirror_mode": {
    "name": "ipython",
    "version": 3
   },
   "file_extension": ".py",
   "mimetype": "text/x-python",
   "name": "python",
   "nbconvert_exporter": "python",
   "pygments_lexer": "ipython3",
   "version": "3.11.4"
  }
 },
 "nbformat": 4,
 "nbformat_minor": 5
}
