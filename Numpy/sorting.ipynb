{
 "cells": [
  {
   "cell_type": "markdown",
   "id": "08b5ef09-0f50-4b91-9956-36012fecb0e5",
   "metadata": {},
   "source": [
    "# Sorting\n",
    "- `array.sort()`\n",
    "- `array.argsort()`\n",
    "- reverse the sort order"
   ]
  },
  {
   "cell_type": "code",
   "execution_count": 1,
   "id": "e39ba27a-98fd-4d07-ba11-b963b6dfddeb",
   "metadata": {},
   "outputs": [
    {
     "name": "stdout",
     "output_type": "stream",
     "text": [
      "[30 66 56 28 30  7 31 77 99 82]\n",
      "[[67 76 39 38 82]\n",
      " [93 99 38 99 37]]\n"
     ]
    }
   ],
   "source": [
    "import numpy as np\n",
    "\n",
    "a = np.random.randint(1, 100, 10)\n",
    "b = np.random.randint(1, 100, (2, 5))\n",
    "print(a)\n",
    "print(b)"
   ]
  },
  {
   "cell_type": "code",
   "execution_count": 2,
   "id": "a5c3ffc3-6238-4220-ba46-fcff4fd3eac9",
   "metadata": {},
   "outputs": [
    {
     "name": "stdout",
     "output_type": "stream",
     "text": [
      "[ 7 28 30 30 31 56 66 77 82 99]\n",
      "[[38 39 67 76 82]\n",
      " [37 38 93 99 99]]\n",
      "[37 38 38 39 67 76 82 93 99 99]\n",
      "[[67 76 38 38 37]\n",
      " [93 99 39 99 82]]\n",
      "[[38 39 67 76 82]\n",
      " [37 38 93 99 99]]\n",
      "\n",
      "[30 66 56 28 30  7 31 77 99 82] [ 7 28 30 30 31 56 66 77 82 99]\n",
      "[30 66 56 28 30  7 31 77 99 82] [-1 28 30 30 31 56 66 77 82 99]\n",
      "[30 66 56 28 30  7 31 77 99 82]\n",
      "[[-1 28 30 30 31]\n",
      " [56 66 77 82 99]]\n",
      "[99 82 77 66 56 31 30 30 28  7]\n"
     ]
    }
   ],
   "source": [
    "# np.sort() & axis -> return a copy of array, sorted\n",
    "# np.sort(array, axis)\n",
    "\n",
    "# with 1D array => mặc định xếp tăng dần, không cần chỉ định axis\n",
    "print(np.sort(a))\n",
    "\n",
    "# with 2d array\n",
    "# 1. không chỉ định axis hoặc axis=-1 (default) -> sắp xếp theo trục cuối của mảng\n",
    "# ex: mxn arr -> sort theo trục n // mxnxp -> sort theo p\n",
    "print(np.sort(b)) # 2x5 arr -> trục cột \n",
    "\n",
    "# 2. axis=None => chuyển thành 1D xong sort\n",
    "print(np.sort(b, axis=None))\n",
    "\n",
    "# 3. axis = 0 => sort theo hàng -> tức là lấy phần tử tương ứng ở các hàng, không phải sort trên 1 hàng \n",
    "# sort các phần tử ở vị trí j trên mỗi hàng, tức là sort cột j\n",
    "print(np.sort(b, axis=0)) \n",
    "\n",
    "# 4. axis = 1 => sort theo cột -> các cột khác nhau ở 1 hàng (sort trên 1 hàng)\n",
    "print(np.sort(b, axis=1))\n",
    "\n",
    "# 5. axis = n -> sort theo trục n\n",
    "\n",
    "\n",
    "# kết quả sort là mảng mới copy từ mảng cũ và không có liên hệ với mảng cũ\n",
    "print()\n",
    "c = np.sort(a)\n",
    "print(a, c)\n",
    "c[0] = -1\n",
    "print(a, c)\n",
    "c.shape = 2, -1\n",
    "print(a)\n",
    "print(c)\n",
    "\n",
    "# reverse sorting order\n",
    "print(np.sort(a)[::-1])"
   ]
  },
  {
   "cell_type": "code",
   "execution_count": 3,
   "id": "27d724ba-2f06-4056-a520-8aa2997ddebc",
   "metadata": {},
   "outputs": [
    {
     "name": "stdout",
     "output_type": "stream",
     "text": [
      "[30 66 56 28 30  7 31 77 99 82]\n",
      "[ 7 28 30 30 31 56 66 77 82 99]\n",
      "[[67 76 39 38 82]\n",
      " [93 99 38 99 37]]\n",
      "[[67 76 38 38 37]\n",
      " [93 99 39 99 82]]\n",
      "[[37 38 38 67 76]\n",
      " [39 82 93 99 99]]\n"
     ]
    }
   ],
   "source": [
    "# array.sort -> sort trực tiếp trên array\n",
    "c = a.copy()\n",
    "print(c)\n",
    "\n",
    "c.sort()\n",
    "print(c)\n",
    "\n",
    "#axis=-1\n",
    "c = b.copy()\n",
    "print(c)\n",
    "#axis=0\n",
    "c.sort(axis=0)\n",
    "print(c)\n",
    "#axis=1\n",
    "c.sort(axis=1)\n",
    "print(c)\n",
    "\n",
    "# c.sort(axis=None) # error vì làm thay đổi trực tiếp shape của c"
   ]
  },
  {
   "cell_type": "code",
   "execution_count": 4,
   "id": "f7410186-3f16-4f6e-89e6-90d1907639ea",
   "metadata": {},
   "outputs": [
    {
     "name": "stdout",
     "output_type": "stream",
     "text": [
      "['random' 'kkk' 'abc']\n",
      "['abc' 'kkk' 'random']\n",
      "[9 4 2]\n",
      "[[0 0 1 0 1]\n",
      " [1 1 0 1 0]]\n",
      "[[3 2 0 1 4]\n",
      " [4 2 0 1 3]]\n"
     ]
    }
   ],
   "source": [
    "# argsort -> trả về chỉ số của phần tử sau khi sort (indecies)\n",
    "names = np.array(['kkk', 'abc', 'random'])\n",
    "scores = np.random.randint(0, 11, 3)\n",
    "\n",
    "indices = scores.argsort() # không thay đổi mảng // or: indices = np.argsort(scores)\n",
    "print(names[indices])\n",
    "\n",
    "# reverse order:\n",
    "indices = indices[::-1]\n",
    "print(names[indices], scores[indices], sep='\\n')\n",
    "\n",
    "print(b.argsort(axis=0))\n",
    "print(b.argsort(axis=1))"
   ]
  }
 ],
 "metadata": {
  "kernelspec": {
   "display_name": "Python 3 (ipykernel)",
   "language": "python",
   "name": "python3"
  },
  "language_info": {
   "codemirror_mode": {
    "name": "ipython",
    "version": 3
   },
   "file_extension": ".py",
   "mimetype": "text/x-python",
   "name": "python",
   "nbconvert_exporter": "python",
   "pygments_lexer": "ipython3",
   "version": "3.11.4"
  }
 },
 "nbformat": 4,
 "nbformat_minor": 5
}
