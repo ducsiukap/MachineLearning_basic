{
 "cells": [
  {
   "cell_type": "code",
   "execution_count": 1,
   "id": "3c1bb15a-1126-4088-b860-fa8e813fcfb3",
   "metadata": {},
   "outputs": [
    {
     "name": "stdout",
     "output_type": "stream",
     "text": [
      "[52 74 61 89 34]\n",
      "[51 58 84 89 83]\n",
      "[-1]\n",
      "-1\n",
      "[[87 95]\n",
      " [43 43]]\n",
      "[[ 8 55]\n",
      " [73 93]]\n"
     ]
    }
   ],
   "source": [
    "import numpy as np\n",
    "\n",
    "a_1d = np.random.randint(1, 100, 5)\n",
    "b_1d = np.random.randint(1, 100, 5)\n",
    "c_1d = [-1]\n",
    "d = -1\n",
    "\n",
    "a_2d = np.random.randint(1, 100, (2, 2))\n",
    "b_2d = np.random.randint(1, 100, (2, 2))\n",
    "\n",
    "print(a_1d, b_1d, c_1d, d, a_2d, b_2d, sep='\\n')"
   ]
  },
  {
   "cell_type": "code",
   "execution_count": 2,
   "id": "40ccad5d-1e05-4ef7-938b-4e3bf7acdfa1",
   "metadata": {},
   "outputs": [
    {
     "name": "stdout",
     "output_type": "stream",
     "text": [
      "[103 132 145 178 117]\n",
      "[51 73 60 88 33]\n",
      "[51 73 60 88 33]\n",
      "[[ 95 150]\n",
      " [116 136]]\n",
      "[[86 94]\n",
      " [42 42]]\n",
      "[[86 94]\n",
      " [42 42]]\n",
      "22811\n",
      "[[ 7631 13620]\n",
      " [ 3483  6364]]\n"
     ]
    }
   ],
   "source": [
    "# array: thực hiện phép toán trên từng phần tử -> elem by elem\n",
    "print(a_1d + b_1d)\n",
    "print(a_1d + c_1d) # broatcast: ma trận nhỏ hơn sẽ tự mở rộng để phù hợp kích thước (NẾU CÓ THỂ)\n",
    "print(a_1d + d) # broatcast\n",
    "\n",
    "print(a_2d + b_2d)\n",
    "print(a_2d + c_1d) \n",
    "print(a_2d + d)\n",
    "# tương tự, có các phép +,- , *, /, //, %, **\n",
    "\n",
    "# @ -> hoặc np.dot()\n",
    "print(a_1d @ b_1d)\n",
    "print(a_2d @ b_2d)\n"
   ]
  },
  {
   "cell_type": "code",
   "execution_count": 3,
   "id": "4cde0b8e-5c3e-49eb-a007-e57e255ae694",
   "metadata": {},
   "outputs": [
    {
     "name": "stdout",
     "output_type": "stream",
     "text": [
      "[51 73 60 88 33]\n",
      "[[ 7 40]\n",
      " [43 43]]\n"
     ]
    }
   ],
   "source": [
    "# sử dụng built-in function\n",
    "# np.add(), subtract, multiply, divide, floor_divide, mod, power\n",
    "print(np.add(a_1d, c_1d)) # add(x, y, out=None)\n",
    "print(np.mod(a_2d, b_2d))"
   ]
  },
  {
   "cell_type": "code",
   "execution_count": 4,
   "id": "91421077-b300-4200-831a-92c712a72edd",
   "metadata": {},
   "outputs": [
    {
     "name": "stdout",
     "output_type": "stream",
     "text": [
      "[False False False  True False]\n",
      "[0 0 1 1 0]\n"
     ]
    }
   ],
   "source": [
    "#compare\n",
    "print(a_1d == b_1d)\n",
    "# ==, !=, >, >=, <, <=\n",
    "# np.equal(), np.not_equal\n",
    "\n",
    "# bitwise\n",
    "print(a_1d & 1)\n",
    "# &, !, ^, ~\n",
    "# logical_and(), logical_or, logical_xor, logical_not"
   ]
  },
  {
   "cell_type": "code",
   "execution_count": 5,
   "id": "2f1a3ff2-2243-42b3-bf70-be142e20fbf0",
   "metadata": {},
   "outputs": [
    {
     "name": "stdout",
     "output_type": "stream",
     "text": [
      "[7.21110255 8.60232527 7.81024968 9.43398113 5.83095189]\n",
      "[3.83100800e+22 1.37338298e+32 3.10429794e+26 4.48961282e+38\n",
      " 5.83461743e+14]\n",
      "[0.82 0.02 0.93 0.22 0.55]\n"
     ]
    }
   ],
   "source": [
    "# một số hàm toán học nâng cao\n",
    "print(np.sqrt(a_1d))\n",
    "print(np.exp(a_1d)) # e^a\n",
    "# np.log(), np.log10(), np.log(2)\n",
    "# np.abs()\n",
    "\n",
    "# round(), floor(), ceil()\n",
    "float_arr = np.random.rand(5)\n",
    "print(np.round(float_arr, 2))\n",
    "\n",
    "#sin, cos,tan\n",
    "# arcsin, arccos, arctan\n",
    "# dot -> dotproduct\n",
    "# matmul -> matrix multiply\n",
    "# sum, min, max ,mean, \n"
   ]
  },
  {
   "cell_type": "code",
   "execution_count": 6,
   "id": "6e6d1717-e20a-4ae5-8e7a-4471397aee1f",
   "metadata": {},
   "outputs": [
    {
     "name": "stdout",
     "output_type": "stream",
     "text": [
      "[18  7 12]\n",
      "[[106]]\n",
      "37\n",
      "[ 7 10]\n",
      "[22 49]\n",
      "[[42 31]\n",
      " [99 67]]\n"
     ]
    }
   ],
   "source": [
    "# multiply vs dot product\n",
    "a = np.random.randint(1, 10, 3)\n",
    "b = np.random.randint(1, 10, 3)\n",
    "\n",
    "c = np.asmatrix(np.random.randint(1, 10, 3)) # asmatrix : biiến np.array -> np.matrix\n",
    "d = np.asmatrix(np.random.randint(1, 10, (3, 1)))\n",
    "# np.matrix => trả về ma trận, không phải array\n",
    "\n",
    "# với toán tử *\n",
    "# a, b là array => a * b => nhân từng phần tử\n",
    "print(a * b)\n",
    "# c, d là np.matrix => a * b là matrix multiply\n",
    "print(c * d) # (1, 3) x (3, 1) => (1, 1)\n",
    "\n",
    "# vói @ \n",
    "# a, b là np.array, 1D array => dot product -> result = a1*b1 + a2 * b2 + a3*b3 + ....\n",
    "print(a @ b) # -> number\n",
    "# a, b là np.array, 1 trong 2 or cả 2 không phải 1D arr => matrix multiply\n",
    "e = np.array([1, 2])\n",
    "f = np.array([[1, 2], [3, 4]])\n",
    "print(e@f)\n",
    "\n",
    "# np.dot -> thực hiện dot product # số cột của A = số hàng (hoặc số phần tử nếu là 1D) của B\n",
    "a = [[1, 2, 3], [4, 5, 6]]\n",
    "b = [1, 3, 5]\n",
    "c = [[4, 2], [7, 1], [8, 9]]\n",
    "print(np.dot(a, b)) # -> 2x1  # [22 49]\n",
    "print(np.dot(a, c)) # -> 2x2 # [[42 31], [99 67]]"
   ]
  },
  {
   "cell_type": "code",
   "execution_count": 7,
   "id": "1660c54b-5b42-48a7-8abe-7768d333ee4b",
   "metadata": {},
   "outputs": [
    {
     "name": "stdout",
     "output_type": "stream",
     "text": [
      "[1 4 9]\n",
      "[ 1  3  6 10 15 21]\n",
      "[[1 2 3]\n",
      " [5 7 9]]\n",
      "[[ 1  3  6]\n",
      " [ 4  9 15]]\n"
     ]
    }
   ],
   "source": [
    "# cummulative sum / prefix sum -> tổng tích lũy\n",
    "a = np.array([1, 3, 5])\n",
    "b = np.array([[1, 2, 3], [4, 5, 6]])\n",
    "\n",
    "print(a.cumsum()) # [1, 1 + 3 = 4, 4 + 5 = 9] => [1, 5, 9]\n",
    "print(b.cumsum()) # [1, 1 + 2 = 3, 3 + 3 = 6, 6 + 4 = 10, 10 + 5 = 15, 15 + 6 = 21] => [1, 3, 6, 10, 15, 21]\n",
    "\n",
    "# cumsum( axis ) -> trả về arr có kích thước không đổi\n",
    "# axis = 0 => cumsum trên từng cột\n",
    "print(b.cumsum(axis=0)) # [[1, 2, 3], [1 + 4, 2 + 5, 3 + 6]]\n",
    "# axist = 1 => cumsum trên từng hàng\n",
    "print(b.cumsum(axis=1)) # [[1, 1+2, 1+2+3], [4, 4+5, 4+5+6]]"
   ]
  }
 ],
 "metadata": {
  "kernelspec": {
   "display_name": "Python 3 (ipykernel)",
   "language": "python",
   "name": "python3"
  },
  "language_info": {
   "codemirror_mode": {
    "name": "ipython",
    "version": 3
   },
   "file_extension": ".py",
   "mimetype": "text/x-python",
   "name": "python",
   "nbconvert_exporter": "python",
   "pygments_lexer": "ipython3",
   "version": "3.11.4"
  }
 },
 "nbformat": 4,
 "nbformat_minor": 5
}
