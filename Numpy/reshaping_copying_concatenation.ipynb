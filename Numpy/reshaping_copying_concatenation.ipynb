{
 "cells": [
  {
   "cell_type": "markdown",
   "id": "917301ed-1594-440e-8fd6-cbbf01cb31fe",
   "metadata": {},
   "source": [
    "# array.reshape(new_shape)\n",
    "\n",
    "# copying:\n",
    "- array assignment\n",
    "- array`.view()`\n",
    "- array`.copy()`\n",
    "\n",
    "# array.concatenate()"
   ]
  },
  {
   "cell_type": "code",
   "execution_count": 1,
   "id": "d3b0e25d-186c-43a6-a4ed-41330a16fce0",
   "metadata": {},
   "outputs": [
    {
     "name": "stdout",
     "output_type": "stream",
     "text": [
      "[ 7 66 17 81 39 47]\n",
      "[[15 17 69 96]\n",
      " [24 47 82 45]\n",
      " [92 52 89 58]]\n"
     ]
    }
   ],
   "source": [
    "import numpy as np\n",
    "\n",
    "a = np.random.randint(1, 100, 6) # 1D arrray, 4 elems\n",
    "b = np.random.randint(1, 100, (3, 4)) # 2D 3x4 array\n",
    "print(a)\n",
    "print(b)"
   ]
  },
  {
   "cell_type": "markdown",
   "id": "854b1eef-8d3f-45e0-9156-e5d0b211e927",
   "metadata": {},
   "source": [
    "### reshaping array"
   ]
  },
  {
   "cell_type": "code",
   "execution_count": 2,
   "id": "afee55fe-f842-4a1d-a645-edec7e6580b8",
   "metadata": {},
   "outputs": [
    {
     "name": "stdout",
     "output_type": "stream",
     "text": [
      ">>> a.shape = (6,)\n",
      ">>> b.shape = (3, 4)\n",
      "\n",
      "[[ 7 66 17 81 39 47]] ----- a.shape = (1, 6)\n",
      "\n",
      "[[[ 7]\n",
      "  [66]]\n",
      "\n",
      " [[17]\n",
      "  [81]]\n",
      "\n",
      " [[39]\n",
      "  [47]]] ----- a.shape = (3, 2, 1)\n",
      "[ 7 66 17 81 39 47] ----- a.shape = (6,)\n",
      "\n",
      "[15 17 69 96 24 47 82 45 92 52 89 58]\n",
      "[15 17 69 96 24 47 82 45 92 52 89 58]\n",
      "[[15 17 69 96]\n",
      " [24 47 82 45]\n",
      " [92 52 89 58]]\n"
     ]
    }
   ],
   "source": [
    "# .reshape(new_shape)\n",
    "# shape mới phải có số phần tử bằng shape cũ\n",
    "print(f'>>> a.shape = {a.shape}')\n",
    "print(f'>>> b.shape = {b.shape}\\n')\n",
    "\n",
    "# 1. change directly a.shape = new_shape, thay đổi trực tiếp array\n",
    "a.shape = 1, -1 # or = (1, -1) # chuyển thành 2D, 1 hàng, 6 cột\n",
    "print(a, f'a.shape = {a.shape}', sep=' ----- ')\n",
    "print()\n",
    "# với array n chiều, cần xác định n-1 chiều, chiều còn lại có thể truyền -1 để numpy tự tính số phần tử\n",
    "# new_shape chỉ được chứa nhiều nhất 1 đối số có giá trị -1\n",
    "\n",
    "# 2, use .reshape() => trả về array mới, không thay đổi array\n",
    "a = a.reshape(3, -1, 1) # 3D array, 3xAutox1\n",
    "print(a, f'a.shape = {a.shape}', sep=' ----- ')\n",
    "a = a.reshape(-1) # chuyển về 1D array\n",
    "print(a, f'a.shape = {a.shape}', sep=' ----- ')\n",
    "print()\n",
    "\n",
    "# biến về mảng 1 chiều sử dụng ravel(), flatten() -> trả về array mới\n",
    "print(b.flatten()) \n",
    "print(b.ravel())\n",
    "print(b)\n",
    "\n",
    "# reshape -> reference\n",
    "# flatten -> copy\n",
    "# revel -> view"
   ]
  },
  {
   "cell_type": "markdown",
   "id": "65b5b1fa-f80f-4d16-8b30-05dfce54d1fa",
   "metadata": {},
   "source": [
    "### copying array"
   ]
  },
  {
   "cell_type": "code",
   "execution_count": 3,
   "id": "c79bb66c-5515-44b0-9fac-e5a0d0a4a50e",
   "metadata": {},
   "outputs": [
    {
     "name": "stdout",
     "output_type": "stream",
     "text": [
      ">>> a_ref : [ 7 66 17 81 39 47]\n",
      ">>> a : [ 7 66 17 81 39 47]\n",
      "\n",
      ">>> a_ref : [-1 -1 17 81 39 47]\n",
      ">>> a : [-1 -1 17 81 39 47]\n",
      "\n",
      ">>> a_ref : [[-1 -1 17]\n",
      " [81 39 47]]\n",
      ">>> a : [[-1 -1 17]\n",
      " [81 39 47]]\n",
      "\n",
      ">>> a_ref : [-1 -1 17 81 39 47]\n",
      ">>> a : [-1 -1 17 81 39 47]\n",
      "\n"
     ]
    }
   ],
   "source": [
    "# array assignment -> gán THAM CHIẾU (reference) của đối số cho biến được gán\n",
    "a_ref = a\n",
    "print(f'>>> a_ref : {a_ref}')\n",
    "print(f'>>> a : {a}')\n",
    "print()\n",
    "\n",
    "# -> mọi thay đổi của a_ref đều ảnh hưởng tới a và ngược lại\n",
    "# change one element\n",
    "a_ref[0] = -1 \n",
    "a[1] = -1\n",
    "print(f'>>> a_ref : {a_ref}')\n",
    "print(f'>>> a : {a}')\n",
    "print()\n",
    "# change shape\n",
    "a_ref.shape = 2, -1 # 2D array\n",
    "print(f'>>> a_ref : {a_ref}')\n",
    "print(f'>>> a : {a}')\n",
    "print()\n",
    "\n",
    "a.shape = -1 # 1D array\n",
    "print(f'>>> a_ref : {a_ref}')\n",
    "print(f'>>> a : {a}')\n",
    "print()"
   ]
  },
  {
   "cell_type": "code",
   "execution_count": 4,
   "id": "7c1ea791-3661-402b-8612-8f537fe87352",
   "metadata": {},
   "outputs": [
    {
     "name": "stdout",
     "output_type": "stream",
     "text": [
      ">>> a_view : [-1 -1 17 81 39 47]\n",
      ">>> a : [-1 -1 17 81 39 47]\n",
      "\n",
      ">>> a_view : [111 111  17  81  39  47]\n",
      ">>> a : [111 111  17  81  39  47]\n",
      "\n",
      ">>> a_view : [[[111 111]]\n",
      "\n",
      " [[ 17  81]]\n",
      "\n",
      " [[ 39  47]]]\n",
      ">>> a : [111 111  17  81  39  47]\n",
      "\n",
      ">>> a_view : [[[111 111]]\n",
      "\n",
      " [[ 17  81]]\n",
      "\n",
      " [[ 39  47]]]\n",
      ">>> a : [[111 111  17]\n",
      " [ 81  39  47]]\n",
      "\n",
      ">>> a_view : [[[111 111]]\n",
      "\n",
      " [[ 17  81]]\n",
      "\n",
      " [[ 39  47]]]\n",
      ">>> a : [111 111  17  81  39  47]\n",
      "\n"
     ]
    }
   ],
   "source": [
    "# copy by .view() -> vẫn Refer to the same object nhưng có shape riêng\n",
    "a_view = a.view()\n",
    "print(f'>>> a_view : {a_view}')\n",
    "print(f'>>> a : {a}')\n",
    "print()\n",
    "\n",
    "# change the elem \n",
    "a_view[0] = 111\n",
    "a[1] = 111\n",
    "print(f'>>> a_view : {a_view}')\n",
    "print(f'>>> a : {a}')\n",
    "print()\n",
    "\n",
    "# change the shape\n",
    "a_view.shape = 3, -1, 2  # 3D array, 3xAutox2\n",
    "print(f'>>> a_view : {a_view}')\n",
    "print(f'>>> a : {a}')\n",
    "print()\n",
    "\n",
    "a.shape = 2, -1 # 2d, 2xAuto\n",
    "print(f'>>> a_view : {a_view}')\n",
    "print(f'>>> a : {a}')\n",
    "print()\n",
    "\n",
    "a.shape = -1\n",
    "print(f'>>> a_view : {a_view}')\n",
    "print(f'>>> a : {a}')\n",
    "print()"
   ]
  },
  {
   "cell_type": "code",
   "execution_count": 5,
   "id": "f6f96ccf-5b1d-4be3-9140-16e94c89d730",
   "metadata": {},
   "outputs": [
    {
     "name": "stdout",
     "output_type": "stream",
     "text": [
      ">>> a_copy : [111 111  17  81  39  47]\n",
      ">>> a : [111 111  17  81  39  47]\n",
      "\n",
      ">>> a_copy : [999 111  17  81  39  47]\n",
      ">>> a : [111 999  17  81  39  47]\n",
      "\n",
      ">>> a_copy : [[[[[[999]]]]]\n",
      "\n",
      "\n",
      "\n",
      "\n",
      " [[[[[111]]]]]\n",
      "\n",
      "\n",
      "\n",
      "\n",
      " [[[[[ 17]]]]]\n",
      "\n",
      "\n",
      "\n",
      "\n",
      " [[[[[ 81]]]]]\n",
      "\n",
      "\n",
      "\n",
      "\n",
      " [[[[[ 39]]]]]\n",
      "\n",
      "\n",
      "\n",
      "\n",
      " [[[[[ 47]]]]]]\n",
      ">>> a : [111 999  17  81  39  47]\n",
      "\n"
     ]
    }
   ],
   "source": [
    "# copy by .copy() -> tạo đối tượng mới hoàn toàn, không liên quan gì tới object cũ\n",
    "a_copy = a.copy()\n",
    "print(f'>>> a_copy : {a_copy}')\n",
    "print(f'>>> a : {a}')\n",
    "print()\n",
    "\n",
    "# change value\n",
    "a_copy[0] = 999\n",
    "a[1] = 999\n",
    "print(f'>>> a_copy : {a_copy}')\n",
    "print(f'>>> a : {a}')\n",
    "print()\n",
    "\n",
    "# change the shape\n",
    "a_copy.shape = 6, 1, 1, 1, 1, 1 # 6D 6x1x1x1x1x1 array\n",
    "print(f'>>> a_copy : {a_copy}')\n",
    "print(f'>>> a : {a}')\n",
    "print()"
   ]
  },
  {
   "cell_type": "markdown",
   "id": "8c148d35-c151-41de-81a7-c71a9153c1fe",
   "metadata": {},
   "source": [
    "### concatenation"
   ]
  },
  {
   "cell_type": "code",
   "execution_count": 6,
   "id": "d9f246aa-ac64-4d5e-b523-93f44f6f76c4",
   "metadata": {},
   "outputs": [
    {
     "name": "stdout",
     "output_type": "stream",
     "text": [
      "[111 999  17  81  39  47  15  17  69  96]\n",
      "[111 999  17  81  39  47  15  17  69  96  24  47  82  45]\n",
      "\n",
      "[[1 2 3]\n",
      " [4 5 6]] [[7 8 9]]\n",
      "\n",
      "[[1 2 3]\n",
      " [4 5 6]\n",
      " [7 8 9]]\n",
      "[[1 2 3 7]\n",
      " [4 5 6 8]]\n",
      "[[ 1  2  3 -1 -2]\n",
      " [ 4  5  6 -3 -4]]\n"
     ]
    }
   ],
   "source": [
    "# np.concatenate((arrays), axis=None) # all array in arrays must have the same dimension\n",
    "print(np.concatenate((a, b[0])))\n",
    "print(np.concatenate((a, b[0], b[1])))\n",
    "print()\n",
    "\n",
    "# axis arg: \n",
    "c = np.array([[1, 2, 3], [4, 5, 6]])\n",
    "d = np.array([[7, 8, 9]])\n",
    "print(c, d)\n",
    "print()\n",
    "\n",
    "# axis = 0 -> thêm thành hàng mới -> arrays ngoài việc cùng chiều thì cần cùng số cột\n",
    "print(np.concatenate((c, d), axis=0)) # hoặc np.hstack((c, d))\n",
    "# axis = 1 -> thêm thành cột mới -> ngoài việc cùng chiều thì số cột của c phải cùng số hàng của D\n",
    "print(np.concatenate((c, d[0, :2].reshape(2, -1)), axis=1)) \n",
    "e = [[-1, -2], [-3, -4]]\n",
    "print(np.concatenate((c, e), axis=1))# hoặc np.vstack((c,e))\n"
   ]
  },
  {
   "cell_type": "code",
   "execution_count": null,
   "id": "5813deb3-2aa7-4bde-8080-bcb8f9c28d5b",
   "metadata": {},
   "outputs": [],
   "source": []
  }
 ],
 "metadata": {
  "kernelspec": {
   "display_name": "Python 3 (ipykernel)",
   "language": "python",
   "name": "python3"
  },
  "language_info": {
   "codemirror_mode": {
    "name": "ipython",
    "version": 3
   },
   "file_extension": ".py",
   "mimetype": "text/x-python",
   "name": "python",
   "nbconvert_exporter": "python",
   "pygments_lexer": "ipython3",
   "version": "3.11.4"
  }
 },
 "nbformat": 4,
 "nbformat_minor": 5
}
