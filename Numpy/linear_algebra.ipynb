{
 "cells": [
  {
   "cell_type": "markdown",
   "id": "8642decb-977d-4494-8287-d2e0a6a039d8",
   "metadata": {},
   "source": [
    "# numpy.linalg\n"
   ]
  },
  {
   "cell_type": "code",
   "execution_count": 1,
   "id": "08f6c4e5-3fd2-48d6-b75c-ff4620288068",
   "metadata": {},
   "outputs": [
    {
     "name": "stdout",
     "output_type": "stream",
     "text": [
      "[[[3 2]\n",
      "  [8 5]]\n",
      "\n",
      " [[2 5]\n",
      "  [7 6]]\n",
      "\n",
      " [[9 8]\n",
      "  [9 6]]]\n",
      "[[5 6]\n",
      " [5 8]]\n"
     ]
    }
   ],
   "source": [
    "import numpy as np\n",
    "\n",
    "a = np.random.randint(1, 10, (3, 2, 2))\n",
    "b = np.random.randint(1, 10, (2, 2))\n",
    "print(a)\n",
    "print(b)"
   ]
  },
  {
   "cell_type": "code",
   "execution_count": 2,
   "id": "c8e09826-ee08-4c70-a8d4-434fb88181f0",
   "metadata": {},
   "outputs": [
    {
     "name": "stdout",
     "output_type": "stream",
     "text": [
      "[[[-5.          2.        ]\n",
      "  [ 8.         -3.        ]]\n",
      "\n",
      " [[-0.26086957  0.2173913 ]\n",
      "  [ 0.30434783 -0.08695652]]\n",
      "\n",
      " [[-0.33333333  0.44444444]\n",
      "  [ 0.5        -0.5       ]]]\n",
      "[[ 0.8 -0.6]\n",
      " [-0.5  0.5]]\n"
     ]
    }
   ],
   "source": [
    "# inv -> ma tran nghich dao\n",
    "print(np.linalg.inv(a)) # Last 2 dimensions of the array must be square\n",
    "print(np.linalg.inv(b))"
   ]
  },
  {
   "cell_type": "code",
   "execution_count": 3,
   "id": "a0d45129-b7e2-468a-9e94-02a9774a00f8",
   "metadata": {},
   "outputs": [
    {
     "name": "stdout",
     "output_type": "stream",
     "text": [
      "[ -1. -23. -18.]\n",
      "9.999999999999998\n"
     ]
    }
   ],
   "source": [
    "# det -> Định thức của ma trận\n",
    "print(np.linalg.det(a))\n",
    "print(np.linalg.det(b))"
   ]
  },
  {
   "cell_type": "code",
   "execution_count": 16,
   "id": "9b2b128a-6b90-4e36-9c3f-05a3f661e65b",
   "metadata": {},
   "outputs": [
    {
     "name": "stdout",
     "output_type": "stream",
     "text": [
      "[3.57142857 0.71428571]\n"
     ]
    }
   ],
   "source": [
    "# solve -> ax=b\n",
    "# ex: \n",
    "# x1 + 2x2 = 5\n",
    "# 5x1 + 3x2 = 20\n",
    "a = np.array([[1, 2], [5, 3]])\n",
    "b = np.array([5, 20])\n",
    "\n",
    "print(np.linalg.solve(a, b)) # [x1 x2]"
   ]
  },
  {
   "cell_type": "markdown",
   "id": "52e06e54-e07f-465c-8a81-02aa6c3b54da",
   "metadata": {},
   "source": [
    "# Read more about: [numpy.linalg](https://numpy.org/doc/stable/reference/routines.linalg.html)"
   ]
  }
 ],
 "metadata": {
  "kernelspec": {
   "display_name": "Python 3 (ipykernel)",
   "language": "python",
   "name": "python3"
  },
  "language_info": {
   "codemirror_mode": {
    "name": "ipython",
    "version": 3
   },
   "file_extension": ".py",
   "mimetype": "text/x-python",
   "name": "python",
   "nbconvert_exporter": "python",
   "pygments_lexer": "ipython3",
   "version": "3.11.4"
  }
 },
 "nbformat": 4,
 "nbformat_minor": 5
}
