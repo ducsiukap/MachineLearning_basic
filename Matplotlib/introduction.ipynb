{
 "cells": [
  {
   "cell_type": "markdown",
   "id": "9f90c031-04e3-468d-b665-18afaa215211",
   "metadata": {},
   "source": [
    "# Data Visualization with `Matplotlib`.\n",
    "\"_*A picture is worth a thousand words!*_\"  \n",
    "No matter how large or how small your dataset, it is often very useful (and many times, essential) that you are able to visualize the data and see the relationships between the various features within it.\n",
    "\n",
    "## Install `matplotlib`  \n",
    "\n",
    "**In `cmd`:**  \n",
    "```python\n",
    "pip install matplotlib\n",
    "```\n",
    "\n",
    "**In `Jupyter Notebook`:**\n",
    "```python\n",
    "!pip install matplotlib\n",
    "```"
   ]
  },
  {
   "cell_type": "code",
   "execution_count": 1,
   "id": "8529cae5-36cd-43b9-a6cc-07f218d244bf",
   "metadata": {},
   "outputs": [
    {
     "name": "stdout",
     "output_type": "stream",
     "text": [
      "3.10.5\n"
     ]
    }
   ],
   "source": [
    "# check the installization: \n",
    "import matplotlib as mpl\n",
    "\n",
    "print(mpl.__version__)"
   ]
  }
 ],
 "metadata": {
  "kernelspec": {
   "display_name": "Python 3 (ipykernel)",
   "language": "python",
   "name": "python3"
  },
  "language_info": {
   "codemirror_mode": {
    "name": "ipython",
    "version": 3
   },
   "file_extension": ".py",
   "mimetype": "text/x-python",
   "name": "python",
   "nbconvert_exporter": "python",
   "pygments_lexer": "ipython3",
   "version": "3.11.4"
  }
 },
 "nbformat": 4,
 "nbformat_minor": 5
}
